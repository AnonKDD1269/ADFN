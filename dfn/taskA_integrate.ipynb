{
 "cells": [
  {
   "cell_type": "code",
   "execution_count": 1,
   "metadata": {},
   "outputs": [
    {
     "name": "stderr",
     "output_type": "stream",
     "text": [
      "/home/bosung/anaconda3/lib/python3.9/site-packages/transformers/utils/generic.py:260: UserWarning: torch.utils._pytree._register_pytree_node is deprecated. Please use torch.utils._pytree.register_pytree_node instead.\n",
      "  torch.utils._pytree._register_pytree_node(\n",
      "/home/bosung/anaconda3/lib/python3.9/site-packages/transformers/utils/generic.py:260: UserWarning: torch.utils._pytree._register_pytree_node is deprecated. Please use torch.utils._pytree.register_pytree_node instead.\n",
      "  torch.utils._pytree._register_pytree_node(\n"
     ]
    }
   ],
   "source": [
    "import torch\n",
    "from datafeed import RegressionDataset, ClassificationDataset\n",
    "import torch.nn as nn\n",
    "import torch.optim as optim\n",
    "import math \n",
    "from model import FuncControlModel\n",
    "import copy\n",
    "# Define your model\n",
    "import random \n",
    "# data is sinx , x is 0 to 1\n",
    "import numpy as np \n",
    "import matplotlib.pyplot as plt\n",
    "import pandas as pd \n",
    "from tqdm import tqdm \n",
    "from torchmetrics import MeanAbsolutePercentageError\n",
    "import datetime\n",
    "from functions import FUNC_CLASSES\n",
    "from func_manage import transfer_methods\n",
    "from functions import *\n",
    "import torchvision \n",
    "import torchvision.transforms as transforms\n",
    "from func_prune import get_topk_funcs, remove_other_funcs\n",
    "import inspect\n",
    "from mixedfunc import MixedFunc"
   ]
  },
  {
   "cell_type": "code",
   "execution_count": 2,
   "metadata": {},
   "outputs": [
    {
     "name": "stdout",
     "output_type": "stream",
     "text": [
      "Initial len:  7\n",
      "Initial flist:  ['add', 'cos', 'mean', 'relu', 'sigmoid', 'sin', 'sub']\n",
      "Transfer_res :  29\n",
      "Transfered flist:  ['abs', 'add', 'ceil', 'clamp', 'clip', 'cos', 'equal', 'floor', 'frac', 'greater', 'greater_equal', 'less', 'less_equal', 'logical_and', 'logical_not', 'logical_or', 'logical_xor', 'maximum', 'mean', 'minimum', 'neg', 'not_equal', 'relu', 'round', 'sigmoid', 'sign', 'sin', 'sub', 'trunc']\n"
     ]
    }
   ],
   "source": [
    "# Create dynamic Funcpool. \n",
    "\n",
    "class_keys = list(FUNC_CLASSES.keys())\n",
    "classes = [FUNC_CLASSES[key] for key in class_keys]\n",
    "\n",
    "# get initial func pool method list\n",
    "flist = [dir(FuncPool)[i] for i in range(len(dir(FuncPool))) if not dir(FuncPool)[i].startswith('_')]\n",
    "print(\"Initial len: \", len(flist))\n",
    "print(\"Initial flist: \", flist)\n",
    "\n",
    "# transfer methods from classes to FuncPool\n",
    "transfer_methods(classes, FuncPool)\n",
    "\n",
    "# get final func pool method list\n",
    "flist = [dir(FuncPool)[i] for i in range(len(dir(FuncPool))) if not dir(FuncPool)[i].startswith('_')]\n",
    "print(\"Transfer_res : \", len(flist))\n",
    "print(\"Transfered flist: \", flist)\n",
    "        "
   ]
  },
  {
   "cell_type": "code",
   "execution_count": 3,
   "metadata": {},
   "outputs": [],
   "source": [
    "def func_inspect_func(func, num_args, testmodule):\n",
    "    # implement simple loop to test stability of function\n",
    "    # test 4 cases at base function, 4 cases at derived function\n",
    "    # if all cases are correct, then return True\n",
    "    # else return False\n",
    "    TESTLENGTH = 100\n",
    "\n",
    "    min_val = -1e10\n",
    "    max_val = 1e10\n",
    "    min_mag = 1e-10\n",
    "    neg_min_mag = -1e-10\n",
    "    device = \"cuda:0\"\n",
    "    check_res = {\"base_0\": True, \"base_1\": True, \"derived_0\": True, \"derived_1\": True}\n",
    "    # check if function makes nan or inf with torch\n",
    "    \n",
    "    optimizer = optim.SGD(testmodule.parameters(), lr=0.01)\n",
    "    for iter in tqdm(range(TESTLENGTH)):\n",
    "        x = random.uniform(min_val, max_val)\n",
    "        x = torch.tensor(x, requires_grad=True).float().to(device)\n",
    "        corrected_args = torch.Tensor([[x for i in range(num_args)]]).to(device)\n",
    "\n",
    "        try:\n",
    "            res = testmodule(func(corrected_args))\n",
    "        except:\n",
    "            print(corrected_args)\n",
    "            print(corrected_args.shape)\n",
    "            break\n",
    "        \n",
    " \n",
    "\n",
    "        # check if any element is nan or inf\n",
    "        if torch.isnan(*res).any() or torch.isinf(*res).any():\n",
    "            print(\"Nan or Inf detected at base function, iter : \", iter)\n",
    "            check_res[\"base_0\"] = False\n",
    "        \n",
    "        x_little = random.uniform(neg_min_mag, min_mag)\n",
    "        x_little = torch.tensor(x_little, requires_grad=True).float().to(device)\n",
    "        x_little_corrected = torch.Tensor([x_little for i in range(num_args)]).to(device)\n",
    "        res_little = testmodule(func(x_little_corrected))\n",
    "\n",
    "\n",
    "        # check if any element is nan or inf\n",
    "        if torch.isnan(res_little).any() or torch.isinf(res_little).any():\n",
    "            print(\"Nan or Inf detected at base function, iter : \", iter)\n",
    "            check_res[\"base_1\"] = False\n",
    "            # check if derivative is nan or inf\n",
    "            \n",
    "        res.backward()\n",
    "        param = [x for x in testmodule.parameters()]\n",
    "        if torch.isnan(param[0].grad).any() or torch.isinf(param[0].grad).any():\n",
    "            print(\"Nan or Inf detected at derived function, iter : \", iter)\n",
    "            check_res[\"derived_0\"] = False\n",
    "\n",
    "        optimizer.zero_grad()\n",
    "        # check if derivative is nan or inf\n",
    "        res_little.backward()\n",
    "        if torch.isnan(param[0].grad).any() or torch.isinf(param[0].grad).any():\n",
    "            print(\"Nan or Inf detected at derivced function, iter : \", iter)\n",
    "            check_res[\"derived_1\"] = False\n",
    "        \n",
    "    # test base function\n",
    "    return check_res"
   ]
  },
  {
   "cell_type": "code",
   "execution_count": 4,
   "metadata": {},
   "outputs": [
    {
     "name": "stderr",
     "output_type": "stream",
     "text": [
      "100%|██████████| 100/100 [00:00<00:00, 795.37it/s]\n"
     ]
    },
    {
     "name": "stdout",
     "output_type": "stream",
     "text": [
      "{'abs': {'base_0': True, 'base_1': True, 'derived_0': True, 'derived_1': True}}\n"
     ]
    },
    {
     "name": "stderr",
     "output_type": "stream",
     "text": [
      "  0%|          | 0/100 [00:00<?, ?it/s]\n"
     ]
    },
    {
     "name": "stdout",
     "output_type": "stream",
     "text": [
      "tensor([[8.1289e+09, 8.1289e+09]], device='cuda:0')\n",
      "torch.Size([1, 2])\n",
      "{'abs': {'base_0': True, 'base_1': True, 'derived_0': True, 'derived_1': True}, 'add': {'base_0': True, 'base_1': True, 'derived_0': True, 'derived_1': True}}\n"
     ]
    },
    {
     "name": "stderr",
     "output_type": "stream",
     "text": [
      "100%|██████████| 100/100 [00:00<00:00, 964.87it/s]\n"
     ]
    },
    {
     "name": "stdout",
     "output_type": "stream",
     "text": [
      "{'abs': {'base_0': True, 'base_1': True, 'derived_0': True, 'derived_1': True}, 'add': {'base_0': True, 'base_1': True, 'derived_0': True, 'derived_1': True}, 'ceil': {'base_0': True, 'base_1': True, 'derived_0': True, 'derived_1': True}}\n"
     ]
    },
    {
     "name": "stderr",
     "output_type": "stream",
     "text": [
      "  0%|          | 0/100 [00:00<?, ?it/s]\n"
     ]
    },
    {
     "name": "stdout",
     "output_type": "stream",
     "text": [
      "tensor([[2.0638e+09, 2.0638e+09, 2.0638e+09]], device='cuda:0')\n",
      "torch.Size([1, 3])\n",
      "{'abs': {'base_0': True, 'base_1': True, 'derived_0': True, 'derived_1': True}, 'add': {'base_0': True, 'base_1': True, 'derived_0': True, 'derived_1': True}, 'ceil': {'base_0': True, 'base_1': True, 'derived_0': True, 'derived_1': True}, 'clamp': {'base_0': True, 'base_1': True, 'derived_0': True, 'derived_1': True}}\n"
     ]
    },
    {
     "name": "stderr",
     "output_type": "stream",
     "text": [
      "100%|██████████| 100/100 [00:00<00:00, 1096.81it/s]\n"
     ]
    },
    {
     "name": "stdout",
     "output_type": "stream",
     "text": [
      "{'abs': {'base_0': True, 'base_1': True, 'derived_0': True, 'derived_1': True}, 'add': {'base_0': True, 'base_1': True, 'derived_0': True, 'derived_1': True}, 'ceil': {'base_0': True, 'base_1': True, 'derived_0': True, 'derived_1': True}, 'clamp': {'base_0': True, 'base_1': True, 'derived_0': True, 'derived_1': True}, 'clip': {'base_0': True, 'base_1': True, 'derived_0': True, 'derived_1': True}}\n"
     ]
    },
    {
     "name": "stderr",
     "output_type": "stream",
     "text": [
      "100%|██████████| 100/100 [00:00<00:00, 1068.34it/s]\n"
     ]
    },
    {
     "name": "stdout",
     "output_type": "stream",
     "text": [
      "{'abs': {'base_0': True, 'base_1': True, 'derived_0': True, 'derived_1': True}, 'add': {'base_0': True, 'base_1': True, 'derived_0': True, 'derived_1': True}, 'ceil': {'base_0': True, 'base_1': True, 'derived_0': True, 'derived_1': True}, 'clamp': {'base_0': True, 'base_1': True, 'derived_0': True, 'derived_1': True}, 'clip': {'base_0': True, 'base_1': True, 'derived_0': True, 'derived_1': True}, 'cos': {'base_0': True, 'base_1': True, 'derived_0': True, 'derived_1': True}}\n"
     ]
    },
    {
     "name": "stderr",
     "output_type": "stream",
     "text": [
      "  0%|          | 0/100 [00:00<?, ?it/s]\n"
     ]
    },
    {
     "name": "stdout",
     "output_type": "stream",
     "text": [
      "tensor([[-7.0999e+09, -7.0999e+09]], device='cuda:0')\n",
      "torch.Size([1, 2])\n",
      "{'abs': {'base_0': True, 'base_1': True, 'derived_0': True, 'derived_1': True}, 'add': {'base_0': True, 'base_1': True, 'derived_0': True, 'derived_1': True}, 'ceil': {'base_0': True, 'base_1': True, 'derived_0': True, 'derived_1': True}, 'clamp': {'base_0': True, 'base_1': True, 'derived_0': True, 'derived_1': True}, 'clip': {'base_0': True, 'base_1': True, 'derived_0': True, 'derived_1': True}, 'cos': {'base_0': True, 'base_1': True, 'derived_0': True, 'derived_1': True}, 'equal': {'base_0': True, 'base_1': True, 'derived_0': True, 'derived_1': True}}\n"
     ]
    },
    {
     "name": "stderr",
     "output_type": "stream",
     "text": [
      "100%|██████████| 100/100 [00:00<00:00, 1070.23it/s]\n"
     ]
    },
    {
     "name": "stdout",
     "output_type": "stream",
     "text": [
      "{'abs': {'base_0': True, 'base_1': True, 'derived_0': True, 'derived_1': True}, 'add': {'base_0': True, 'base_1': True, 'derived_0': True, 'derived_1': True}, 'ceil': {'base_0': True, 'base_1': True, 'derived_0': True, 'derived_1': True}, 'clamp': {'base_0': True, 'base_1': True, 'derived_0': True, 'derived_1': True}, 'clip': {'base_0': True, 'base_1': True, 'derived_0': True, 'derived_1': True}, 'cos': {'base_0': True, 'base_1': True, 'derived_0': True, 'derived_1': True}, 'equal': {'base_0': True, 'base_1': True, 'derived_0': True, 'derived_1': True}, 'floor': {'base_0': True, 'base_1': True, 'derived_0': True, 'derived_1': True}}\n"
     ]
    },
    {
     "name": "stderr",
     "output_type": "stream",
     "text": [
      "100%|██████████| 100/100 [00:00<00:00, 1112.59it/s]\n"
     ]
    },
    {
     "name": "stdout",
     "output_type": "stream",
     "text": [
      "{'abs': {'base_0': True, 'base_1': True, 'derived_0': True, 'derived_1': True}, 'add': {'base_0': True, 'base_1': True, 'derived_0': True, 'derived_1': True}, 'ceil': {'base_0': True, 'base_1': True, 'derived_0': True, 'derived_1': True}, 'clamp': {'base_0': True, 'base_1': True, 'derived_0': True, 'derived_1': True}, 'clip': {'base_0': True, 'base_1': True, 'derived_0': True, 'derived_1': True}, 'cos': {'base_0': True, 'base_1': True, 'derived_0': True, 'derived_1': True}, 'equal': {'base_0': True, 'base_1': True, 'derived_0': True, 'derived_1': True}, 'floor': {'base_0': True, 'base_1': True, 'derived_0': True, 'derived_1': True}, 'frac': {'base_0': True, 'base_1': True, 'derived_0': True, 'derived_1': True}}\n"
     ]
    },
    {
     "name": "stderr",
     "output_type": "stream",
     "text": [
      "  0%|          | 0/100 [00:00<?, ?it/s]\n"
     ]
    },
    {
     "name": "stdout",
     "output_type": "stream",
     "text": [
      "tensor([[8.4239e+09, 8.4239e+09]], device='cuda:0')\n",
      "torch.Size([1, 2])\n",
      "{'abs': {'base_0': True, 'base_1': True, 'derived_0': True, 'derived_1': True}, 'add': {'base_0': True, 'base_1': True, 'derived_0': True, 'derived_1': True}, 'ceil': {'base_0': True, 'base_1': True, 'derived_0': True, 'derived_1': True}, 'clamp': {'base_0': True, 'base_1': True, 'derived_0': True, 'derived_1': True}, 'clip': {'base_0': True, 'base_1': True, 'derived_0': True, 'derived_1': True}, 'cos': {'base_0': True, 'base_1': True, 'derived_0': True, 'derived_1': True}, 'equal': {'base_0': True, 'base_1': True, 'derived_0': True, 'derived_1': True}, 'floor': {'base_0': True, 'base_1': True, 'derived_0': True, 'derived_1': True}, 'frac': {'base_0': True, 'base_1': True, 'derived_0': True, 'derived_1': True}, 'greater': {'base_0': True, 'base_1': True, 'derived_0': True, 'derived_1': True}}\n"
     ]
    },
    {
     "name": "stderr",
     "output_type": "stream",
     "text": [
      "  0%|          | 0/100 [00:00<?, ?it/s]\n"
     ]
    },
    {
     "name": "stdout",
     "output_type": "stream",
     "text": [
      "tensor([[-6.0946e+09, -6.0946e+09]], device='cuda:0')\n",
      "torch.Size([1, 2])\n",
      "{'abs': {'base_0': True, 'base_1': True, 'derived_0': True, 'derived_1': True}, 'add': {'base_0': True, 'base_1': True, 'derived_0': True, 'derived_1': True}, 'ceil': {'base_0': True, 'base_1': True, 'derived_0': True, 'derived_1': True}, 'clamp': {'base_0': True, 'base_1': True, 'derived_0': True, 'derived_1': True}, 'clip': {'base_0': True, 'base_1': True, 'derived_0': True, 'derived_1': True}, 'cos': {'base_0': True, 'base_1': True, 'derived_0': True, 'derived_1': True}, 'equal': {'base_0': True, 'base_1': True, 'derived_0': True, 'derived_1': True}, 'floor': {'base_0': True, 'base_1': True, 'derived_0': True, 'derived_1': True}, 'frac': {'base_0': True, 'base_1': True, 'derived_0': True, 'derived_1': True}, 'greater': {'base_0': True, 'base_1': True, 'derived_0': True, 'derived_1': True}, 'greater_equal': {'base_0': True, 'base_1': True, 'derived_0': True, 'derived_1': True}}\n"
     ]
    },
    {
     "name": "stderr",
     "output_type": "stream",
     "text": [
      "  0%|          | 0/100 [00:00<?, ?it/s]\n"
     ]
    },
    {
     "name": "stdout",
     "output_type": "stream",
     "text": [
      "tensor([[9.6985e+08, 9.6985e+08]], device='cuda:0')\n",
      "torch.Size([1, 2])\n",
      "{'abs': {'base_0': True, 'base_1': True, 'derived_0': True, 'derived_1': True}, 'add': {'base_0': True, 'base_1': True, 'derived_0': True, 'derived_1': True}, 'ceil': {'base_0': True, 'base_1': True, 'derived_0': True, 'derived_1': True}, 'clamp': {'base_0': True, 'base_1': True, 'derived_0': True, 'derived_1': True}, 'clip': {'base_0': True, 'base_1': True, 'derived_0': True, 'derived_1': True}, 'cos': {'base_0': True, 'base_1': True, 'derived_0': True, 'derived_1': True}, 'equal': {'base_0': True, 'base_1': True, 'derived_0': True, 'derived_1': True}, 'floor': {'base_0': True, 'base_1': True, 'derived_0': True, 'derived_1': True}, 'frac': {'base_0': True, 'base_1': True, 'derived_0': True, 'derived_1': True}, 'greater': {'base_0': True, 'base_1': True, 'derived_0': True, 'derived_1': True}, 'greater_equal': {'base_0': True, 'base_1': True, 'derived_0': True, 'derived_1': True}, 'less': {'base_0': True, 'base_1': True, 'derived_0': True, 'derived_1': True}}\n"
     ]
    },
    {
     "name": "stderr",
     "output_type": "stream",
     "text": [
      "  0%|          | 0/100 [00:00<?, ?it/s]\n"
     ]
    },
    {
     "name": "stdout",
     "output_type": "stream",
     "text": [
      "tensor([[2.2441e+09, 2.2441e+09]], device='cuda:0')\n",
      "torch.Size([1, 2])\n",
      "{'abs': {'base_0': True, 'base_1': True, 'derived_0': True, 'derived_1': True}, 'add': {'base_0': True, 'base_1': True, 'derived_0': True, 'derived_1': True}, 'ceil': {'base_0': True, 'base_1': True, 'derived_0': True, 'derived_1': True}, 'clamp': {'base_0': True, 'base_1': True, 'derived_0': True, 'derived_1': True}, 'clip': {'base_0': True, 'base_1': True, 'derived_0': True, 'derived_1': True}, 'cos': {'base_0': True, 'base_1': True, 'derived_0': True, 'derived_1': True}, 'equal': {'base_0': True, 'base_1': True, 'derived_0': True, 'derived_1': True}, 'floor': {'base_0': True, 'base_1': True, 'derived_0': True, 'derived_1': True}, 'frac': {'base_0': True, 'base_1': True, 'derived_0': True, 'derived_1': True}, 'greater': {'base_0': True, 'base_1': True, 'derived_0': True, 'derived_1': True}, 'greater_equal': {'base_0': True, 'base_1': True, 'derived_0': True, 'derived_1': True}, 'less': {'base_0': True, 'base_1': True, 'derived_0': True, 'derived_1': True}, 'less_equal': {'base_0': True, 'base_1': True, 'derived_0': True, 'derived_1': True}}\n"
     ]
    },
    {
     "name": "stderr",
     "output_type": "stream",
     "text": [
      "  0%|          | 0/100 [00:00<?, ?it/s]\n"
     ]
    },
    {
     "name": "stdout",
     "output_type": "stream",
     "text": [
      "tensor([[3.5999e+09, 3.5999e+09]], device='cuda:0')\n",
      "torch.Size([1, 2])\n",
      "{'abs': {'base_0': True, 'base_1': True, 'derived_0': True, 'derived_1': True}, 'add': {'base_0': True, 'base_1': True, 'derived_0': True, 'derived_1': True}, 'ceil': {'base_0': True, 'base_1': True, 'derived_0': True, 'derived_1': True}, 'clamp': {'base_0': True, 'base_1': True, 'derived_0': True, 'derived_1': True}, 'clip': {'base_0': True, 'base_1': True, 'derived_0': True, 'derived_1': True}, 'cos': {'base_0': True, 'base_1': True, 'derived_0': True, 'derived_1': True}, 'equal': {'base_0': True, 'base_1': True, 'derived_0': True, 'derived_1': True}, 'floor': {'base_0': True, 'base_1': True, 'derived_0': True, 'derived_1': True}, 'frac': {'base_0': True, 'base_1': True, 'derived_0': True, 'derived_1': True}, 'greater': {'base_0': True, 'base_1': True, 'derived_0': True, 'derived_1': True}, 'greater_equal': {'base_0': True, 'base_1': True, 'derived_0': True, 'derived_1': True}, 'less': {'base_0': True, 'base_1': True, 'derived_0': True, 'derived_1': True}, 'less_equal': {'base_0': True, 'base_1': True, 'derived_0': True, 'derived_1': True}, 'logical_and': {'base_0': True, 'base_1': True, 'derived_0': True, 'derived_1': True}}\n"
     ]
    },
    {
     "name": "stderr",
     "output_type": "stream",
     "text": [
      "100%|██████████| 100/100 [00:00<00:00, 942.52it/s]\n"
     ]
    },
    {
     "name": "stdout",
     "output_type": "stream",
     "text": [
      "{'abs': {'base_0': True, 'base_1': True, 'derived_0': True, 'derived_1': True}, 'add': {'base_0': True, 'base_1': True, 'derived_0': True, 'derived_1': True}, 'ceil': {'base_0': True, 'base_1': True, 'derived_0': True, 'derived_1': True}, 'clamp': {'base_0': True, 'base_1': True, 'derived_0': True, 'derived_1': True}, 'clip': {'base_0': True, 'base_1': True, 'derived_0': True, 'derived_1': True}, 'cos': {'base_0': True, 'base_1': True, 'derived_0': True, 'derived_1': True}, 'equal': {'base_0': True, 'base_1': True, 'derived_0': True, 'derived_1': True}, 'floor': {'base_0': True, 'base_1': True, 'derived_0': True, 'derived_1': True}, 'frac': {'base_0': True, 'base_1': True, 'derived_0': True, 'derived_1': True}, 'greater': {'base_0': True, 'base_1': True, 'derived_0': True, 'derived_1': True}, 'greater_equal': {'base_0': True, 'base_1': True, 'derived_0': True, 'derived_1': True}, 'less': {'base_0': True, 'base_1': True, 'derived_0': True, 'derived_1': True}, 'less_equal': {'base_0': True, 'base_1': True, 'derived_0': True, 'derived_1': True}, 'logical_and': {'base_0': True, 'base_1': True, 'derived_0': True, 'derived_1': True}, 'logical_not': {'base_0': True, 'base_1': True, 'derived_0': True, 'derived_1': True}}\n"
     ]
    },
    {
     "name": "stderr",
     "output_type": "stream",
     "text": [
      "  0%|          | 0/100 [00:00<?, ?it/s]\n"
     ]
    },
    {
     "name": "stdout",
     "output_type": "stream",
     "text": [
      "tensor([[-5.0636e+09, -5.0636e+09]], device='cuda:0')\n",
      "torch.Size([1, 2])\n",
      "{'abs': {'base_0': True, 'base_1': True, 'derived_0': True, 'derived_1': True}, 'add': {'base_0': True, 'base_1': True, 'derived_0': True, 'derived_1': True}, 'ceil': {'base_0': True, 'base_1': True, 'derived_0': True, 'derived_1': True}, 'clamp': {'base_0': True, 'base_1': True, 'derived_0': True, 'derived_1': True}, 'clip': {'base_0': True, 'base_1': True, 'derived_0': True, 'derived_1': True}, 'cos': {'base_0': True, 'base_1': True, 'derived_0': True, 'derived_1': True}, 'equal': {'base_0': True, 'base_1': True, 'derived_0': True, 'derived_1': True}, 'floor': {'base_0': True, 'base_1': True, 'derived_0': True, 'derived_1': True}, 'frac': {'base_0': True, 'base_1': True, 'derived_0': True, 'derived_1': True}, 'greater': {'base_0': True, 'base_1': True, 'derived_0': True, 'derived_1': True}, 'greater_equal': {'base_0': True, 'base_1': True, 'derived_0': True, 'derived_1': True}, 'less': {'base_0': True, 'base_1': True, 'derived_0': True, 'derived_1': True}, 'less_equal': {'base_0': True, 'base_1': True, 'derived_0': True, 'derived_1': True}, 'logical_and': {'base_0': True, 'base_1': True, 'derived_0': True, 'derived_1': True}, 'logical_not': {'base_0': True, 'base_1': True, 'derived_0': True, 'derived_1': True}, 'logical_or': {'base_0': True, 'base_1': True, 'derived_0': True, 'derived_1': True}}\n"
     ]
    },
    {
     "name": "stderr",
     "output_type": "stream",
     "text": [
      "  0%|          | 0/100 [00:00<?, ?it/s]\n"
     ]
    },
    {
     "name": "stdout",
     "output_type": "stream",
     "text": [
      "tensor([[-9.8817e+09, -9.8817e+09]], device='cuda:0')\n",
      "torch.Size([1, 2])\n",
      "{'abs': {'base_0': True, 'base_1': True, 'derived_0': True, 'derived_1': True}, 'add': {'base_0': True, 'base_1': True, 'derived_0': True, 'derived_1': True}, 'ceil': {'base_0': True, 'base_1': True, 'derived_0': True, 'derived_1': True}, 'clamp': {'base_0': True, 'base_1': True, 'derived_0': True, 'derived_1': True}, 'clip': {'base_0': True, 'base_1': True, 'derived_0': True, 'derived_1': True}, 'cos': {'base_0': True, 'base_1': True, 'derived_0': True, 'derived_1': True}, 'equal': {'base_0': True, 'base_1': True, 'derived_0': True, 'derived_1': True}, 'floor': {'base_0': True, 'base_1': True, 'derived_0': True, 'derived_1': True}, 'frac': {'base_0': True, 'base_1': True, 'derived_0': True, 'derived_1': True}, 'greater': {'base_0': True, 'base_1': True, 'derived_0': True, 'derived_1': True}, 'greater_equal': {'base_0': True, 'base_1': True, 'derived_0': True, 'derived_1': True}, 'less': {'base_0': True, 'base_1': True, 'derived_0': True, 'derived_1': True}, 'less_equal': {'base_0': True, 'base_1': True, 'derived_0': True, 'derived_1': True}, 'logical_and': {'base_0': True, 'base_1': True, 'derived_0': True, 'derived_1': True}, 'logical_not': {'base_0': True, 'base_1': True, 'derived_0': True, 'derived_1': True}, 'logical_or': {'base_0': True, 'base_1': True, 'derived_0': True, 'derived_1': True}, 'logical_xor': {'base_0': True, 'base_1': True, 'derived_0': True, 'derived_1': True}}\n"
     ]
    },
    {
     "name": "stderr",
     "output_type": "stream",
     "text": [
      "  0%|          | 0/100 [00:00<?, ?it/s]\n"
     ]
    },
    {
     "name": "stdout",
     "output_type": "stream",
     "text": [
      "tensor([[1.7437e+09, 1.7437e+09]], device='cuda:0')\n",
      "torch.Size([1, 2])\n",
      "{'abs': {'base_0': True, 'base_1': True, 'derived_0': True, 'derived_1': True}, 'add': {'base_0': True, 'base_1': True, 'derived_0': True, 'derived_1': True}, 'ceil': {'base_0': True, 'base_1': True, 'derived_0': True, 'derived_1': True}, 'clamp': {'base_0': True, 'base_1': True, 'derived_0': True, 'derived_1': True}, 'clip': {'base_0': True, 'base_1': True, 'derived_0': True, 'derived_1': True}, 'cos': {'base_0': True, 'base_1': True, 'derived_0': True, 'derived_1': True}, 'equal': {'base_0': True, 'base_1': True, 'derived_0': True, 'derived_1': True}, 'floor': {'base_0': True, 'base_1': True, 'derived_0': True, 'derived_1': True}, 'frac': {'base_0': True, 'base_1': True, 'derived_0': True, 'derived_1': True}, 'greater': {'base_0': True, 'base_1': True, 'derived_0': True, 'derived_1': True}, 'greater_equal': {'base_0': True, 'base_1': True, 'derived_0': True, 'derived_1': True}, 'less': {'base_0': True, 'base_1': True, 'derived_0': True, 'derived_1': True}, 'less_equal': {'base_0': True, 'base_1': True, 'derived_0': True, 'derived_1': True}, 'logical_and': {'base_0': True, 'base_1': True, 'derived_0': True, 'derived_1': True}, 'logical_not': {'base_0': True, 'base_1': True, 'derived_0': True, 'derived_1': True}, 'logical_or': {'base_0': True, 'base_1': True, 'derived_0': True, 'derived_1': True}, 'logical_xor': {'base_0': True, 'base_1': True, 'derived_0': True, 'derived_1': True}, 'maximum': {'base_0': True, 'base_1': True, 'derived_0': True, 'derived_1': True}}\n"
     ]
    },
    {
     "name": "stderr",
     "output_type": "stream",
     "text": [
      "100%|██████████| 100/100 [00:00<00:00, 1319.26it/s]\n"
     ]
    },
    {
     "name": "stdout",
     "output_type": "stream",
     "text": [
      "{'abs': {'base_0': True, 'base_1': True, 'derived_0': True, 'derived_1': True}, 'add': {'base_0': True, 'base_1': True, 'derived_0': True, 'derived_1': True}, 'ceil': {'base_0': True, 'base_1': True, 'derived_0': True, 'derived_1': True}, 'clamp': {'base_0': True, 'base_1': True, 'derived_0': True, 'derived_1': True}, 'clip': {'base_0': True, 'base_1': True, 'derived_0': True, 'derived_1': True}, 'cos': {'base_0': True, 'base_1': True, 'derived_0': True, 'derived_1': True}, 'equal': {'base_0': True, 'base_1': True, 'derived_0': True, 'derived_1': True}, 'floor': {'base_0': True, 'base_1': True, 'derived_0': True, 'derived_1': True}, 'frac': {'base_0': True, 'base_1': True, 'derived_0': True, 'derived_1': True}, 'greater': {'base_0': True, 'base_1': True, 'derived_0': True, 'derived_1': True}, 'greater_equal': {'base_0': True, 'base_1': True, 'derived_0': True, 'derived_1': True}, 'less': {'base_0': True, 'base_1': True, 'derived_0': True, 'derived_1': True}, 'less_equal': {'base_0': True, 'base_1': True, 'derived_0': True, 'derived_1': True}, 'logical_and': {'base_0': True, 'base_1': True, 'derived_0': True, 'derived_1': True}, 'logical_not': {'base_0': True, 'base_1': True, 'derived_0': True, 'derived_1': True}, 'logical_or': {'base_0': True, 'base_1': True, 'derived_0': True, 'derived_1': True}, 'logical_xor': {'base_0': True, 'base_1': True, 'derived_0': True, 'derived_1': True}, 'maximum': {'base_0': True, 'base_1': True, 'derived_0': True, 'derived_1': True}, 'mean': {'base_0': True, 'base_1': True, 'derived_0': True, 'derived_1': True}}\n"
     ]
    },
    {
     "name": "stderr",
     "output_type": "stream",
     "text": [
      "  0%|          | 0/100 [00:00<?, ?it/s]\n"
     ]
    },
    {
     "name": "stdout",
     "output_type": "stream",
     "text": [
      "tensor([[-8.8790e+09, -8.8790e+09]], device='cuda:0')\n",
      "torch.Size([1, 2])\n",
      "{'abs': {'base_0': True, 'base_1': True, 'derived_0': True, 'derived_1': True}, 'add': {'base_0': True, 'base_1': True, 'derived_0': True, 'derived_1': True}, 'ceil': {'base_0': True, 'base_1': True, 'derived_0': True, 'derived_1': True}, 'clamp': {'base_0': True, 'base_1': True, 'derived_0': True, 'derived_1': True}, 'clip': {'base_0': True, 'base_1': True, 'derived_0': True, 'derived_1': True}, 'cos': {'base_0': True, 'base_1': True, 'derived_0': True, 'derived_1': True}, 'equal': {'base_0': True, 'base_1': True, 'derived_0': True, 'derived_1': True}, 'floor': {'base_0': True, 'base_1': True, 'derived_0': True, 'derived_1': True}, 'frac': {'base_0': True, 'base_1': True, 'derived_0': True, 'derived_1': True}, 'greater': {'base_0': True, 'base_1': True, 'derived_0': True, 'derived_1': True}, 'greater_equal': {'base_0': True, 'base_1': True, 'derived_0': True, 'derived_1': True}, 'less': {'base_0': True, 'base_1': True, 'derived_0': True, 'derived_1': True}, 'less_equal': {'base_0': True, 'base_1': True, 'derived_0': True, 'derived_1': True}, 'logical_and': {'base_0': True, 'base_1': True, 'derived_0': True, 'derived_1': True}, 'logical_not': {'base_0': True, 'base_1': True, 'derived_0': True, 'derived_1': True}, 'logical_or': {'base_0': True, 'base_1': True, 'derived_0': True, 'derived_1': True}, 'logical_xor': {'base_0': True, 'base_1': True, 'derived_0': True, 'derived_1': True}, 'maximum': {'base_0': True, 'base_1': True, 'derived_0': True, 'derived_1': True}, 'mean': {'base_0': True, 'base_1': True, 'derived_0': True, 'derived_1': True}, 'minimum': {'base_0': True, 'base_1': True, 'derived_0': True, 'derived_1': True}}\n"
     ]
    },
    {
     "name": "stderr",
     "output_type": "stream",
     "text": [
      "100%|██████████| 100/100 [00:00<00:00, 1227.10it/s]\n"
     ]
    },
    {
     "name": "stdout",
     "output_type": "stream",
     "text": [
      "{'abs': {'base_0': True, 'base_1': True, 'derived_0': True, 'derived_1': True}, 'add': {'base_0': True, 'base_1': True, 'derived_0': True, 'derived_1': True}, 'ceil': {'base_0': True, 'base_1': True, 'derived_0': True, 'derived_1': True}, 'clamp': {'base_0': True, 'base_1': True, 'derived_0': True, 'derived_1': True}, 'clip': {'base_0': True, 'base_1': True, 'derived_0': True, 'derived_1': True}, 'cos': {'base_0': True, 'base_1': True, 'derived_0': True, 'derived_1': True}, 'equal': {'base_0': True, 'base_1': True, 'derived_0': True, 'derived_1': True}, 'floor': {'base_0': True, 'base_1': True, 'derived_0': True, 'derived_1': True}, 'frac': {'base_0': True, 'base_1': True, 'derived_0': True, 'derived_1': True}, 'greater': {'base_0': True, 'base_1': True, 'derived_0': True, 'derived_1': True}, 'greater_equal': {'base_0': True, 'base_1': True, 'derived_0': True, 'derived_1': True}, 'less': {'base_0': True, 'base_1': True, 'derived_0': True, 'derived_1': True}, 'less_equal': {'base_0': True, 'base_1': True, 'derived_0': True, 'derived_1': True}, 'logical_and': {'base_0': True, 'base_1': True, 'derived_0': True, 'derived_1': True}, 'logical_not': {'base_0': True, 'base_1': True, 'derived_0': True, 'derived_1': True}, 'logical_or': {'base_0': True, 'base_1': True, 'derived_0': True, 'derived_1': True}, 'logical_xor': {'base_0': True, 'base_1': True, 'derived_0': True, 'derived_1': True}, 'maximum': {'base_0': True, 'base_1': True, 'derived_0': True, 'derived_1': True}, 'mean': {'base_0': True, 'base_1': True, 'derived_0': True, 'derived_1': True}, 'minimum': {'base_0': True, 'base_1': True, 'derived_0': True, 'derived_1': True}, 'neg': {'base_0': True, 'base_1': True, 'derived_0': True, 'derived_1': True}}\n"
     ]
    },
    {
     "name": "stderr",
     "output_type": "stream",
     "text": [
      "  0%|          | 0/100 [00:00<?, ?it/s]\n"
     ]
    },
    {
     "name": "stdout",
     "output_type": "stream",
     "text": [
      "tensor([[-9.5274e+09, -9.5274e+09]], device='cuda:0')\n",
      "torch.Size([1, 2])\n",
      "{'abs': {'base_0': True, 'base_1': True, 'derived_0': True, 'derived_1': True}, 'add': {'base_0': True, 'base_1': True, 'derived_0': True, 'derived_1': True}, 'ceil': {'base_0': True, 'base_1': True, 'derived_0': True, 'derived_1': True}, 'clamp': {'base_0': True, 'base_1': True, 'derived_0': True, 'derived_1': True}, 'clip': {'base_0': True, 'base_1': True, 'derived_0': True, 'derived_1': True}, 'cos': {'base_0': True, 'base_1': True, 'derived_0': True, 'derived_1': True}, 'equal': {'base_0': True, 'base_1': True, 'derived_0': True, 'derived_1': True}, 'floor': {'base_0': True, 'base_1': True, 'derived_0': True, 'derived_1': True}, 'frac': {'base_0': True, 'base_1': True, 'derived_0': True, 'derived_1': True}, 'greater': {'base_0': True, 'base_1': True, 'derived_0': True, 'derived_1': True}, 'greater_equal': {'base_0': True, 'base_1': True, 'derived_0': True, 'derived_1': True}, 'less': {'base_0': True, 'base_1': True, 'derived_0': True, 'derived_1': True}, 'less_equal': {'base_0': True, 'base_1': True, 'derived_0': True, 'derived_1': True}, 'logical_and': {'base_0': True, 'base_1': True, 'derived_0': True, 'derived_1': True}, 'logical_not': {'base_0': True, 'base_1': True, 'derived_0': True, 'derived_1': True}, 'logical_or': {'base_0': True, 'base_1': True, 'derived_0': True, 'derived_1': True}, 'logical_xor': {'base_0': True, 'base_1': True, 'derived_0': True, 'derived_1': True}, 'maximum': {'base_0': True, 'base_1': True, 'derived_0': True, 'derived_1': True}, 'mean': {'base_0': True, 'base_1': True, 'derived_0': True, 'derived_1': True}, 'minimum': {'base_0': True, 'base_1': True, 'derived_0': True, 'derived_1': True}, 'neg': {'base_0': True, 'base_1': True, 'derived_0': True, 'derived_1': True}, 'not_equal': {'base_0': True, 'base_1': True, 'derived_0': True, 'derived_1': True}}\n"
     ]
    },
    {
     "name": "stderr",
     "output_type": "stream",
     "text": [
      "100%|██████████| 100/100 [00:00<00:00, 1160.71it/s]\n"
     ]
    },
    {
     "name": "stdout",
     "output_type": "stream",
     "text": [
      "{'abs': {'base_0': True, 'base_1': True, 'derived_0': True, 'derived_1': True}, 'add': {'base_0': True, 'base_1': True, 'derived_0': True, 'derived_1': True}, 'ceil': {'base_0': True, 'base_1': True, 'derived_0': True, 'derived_1': True}, 'clamp': {'base_0': True, 'base_1': True, 'derived_0': True, 'derived_1': True}, 'clip': {'base_0': True, 'base_1': True, 'derived_0': True, 'derived_1': True}, 'cos': {'base_0': True, 'base_1': True, 'derived_0': True, 'derived_1': True}, 'equal': {'base_0': True, 'base_1': True, 'derived_0': True, 'derived_1': True}, 'floor': {'base_0': True, 'base_1': True, 'derived_0': True, 'derived_1': True}, 'frac': {'base_0': True, 'base_1': True, 'derived_0': True, 'derived_1': True}, 'greater': {'base_0': True, 'base_1': True, 'derived_0': True, 'derived_1': True}, 'greater_equal': {'base_0': True, 'base_1': True, 'derived_0': True, 'derived_1': True}, 'less': {'base_0': True, 'base_1': True, 'derived_0': True, 'derived_1': True}, 'less_equal': {'base_0': True, 'base_1': True, 'derived_0': True, 'derived_1': True}, 'logical_and': {'base_0': True, 'base_1': True, 'derived_0': True, 'derived_1': True}, 'logical_not': {'base_0': True, 'base_1': True, 'derived_0': True, 'derived_1': True}, 'logical_or': {'base_0': True, 'base_1': True, 'derived_0': True, 'derived_1': True}, 'logical_xor': {'base_0': True, 'base_1': True, 'derived_0': True, 'derived_1': True}, 'maximum': {'base_0': True, 'base_1': True, 'derived_0': True, 'derived_1': True}, 'mean': {'base_0': True, 'base_1': True, 'derived_0': True, 'derived_1': True}, 'minimum': {'base_0': True, 'base_1': True, 'derived_0': True, 'derived_1': True}, 'neg': {'base_0': True, 'base_1': True, 'derived_0': True, 'derived_1': True}, 'not_equal': {'base_0': True, 'base_1': True, 'derived_0': True, 'derived_1': True}, 'relu': {'base_0': True, 'base_1': True, 'derived_0': True, 'derived_1': True}}\n"
     ]
    },
    {
     "name": "stderr",
     "output_type": "stream",
     "text": [
      "100%|██████████| 100/100 [00:00<00:00, 1129.51it/s]\n"
     ]
    },
    {
     "name": "stdout",
     "output_type": "stream",
     "text": [
      "{'abs': {'base_0': True, 'base_1': True, 'derived_0': True, 'derived_1': True}, 'add': {'base_0': True, 'base_1': True, 'derived_0': True, 'derived_1': True}, 'ceil': {'base_0': True, 'base_1': True, 'derived_0': True, 'derived_1': True}, 'clamp': {'base_0': True, 'base_1': True, 'derived_0': True, 'derived_1': True}, 'clip': {'base_0': True, 'base_1': True, 'derived_0': True, 'derived_1': True}, 'cos': {'base_0': True, 'base_1': True, 'derived_0': True, 'derived_1': True}, 'equal': {'base_0': True, 'base_1': True, 'derived_0': True, 'derived_1': True}, 'floor': {'base_0': True, 'base_1': True, 'derived_0': True, 'derived_1': True}, 'frac': {'base_0': True, 'base_1': True, 'derived_0': True, 'derived_1': True}, 'greater': {'base_0': True, 'base_1': True, 'derived_0': True, 'derived_1': True}, 'greater_equal': {'base_0': True, 'base_1': True, 'derived_0': True, 'derived_1': True}, 'less': {'base_0': True, 'base_1': True, 'derived_0': True, 'derived_1': True}, 'less_equal': {'base_0': True, 'base_1': True, 'derived_0': True, 'derived_1': True}, 'logical_and': {'base_0': True, 'base_1': True, 'derived_0': True, 'derived_1': True}, 'logical_not': {'base_0': True, 'base_1': True, 'derived_0': True, 'derived_1': True}, 'logical_or': {'base_0': True, 'base_1': True, 'derived_0': True, 'derived_1': True}, 'logical_xor': {'base_0': True, 'base_1': True, 'derived_0': True, 'derived_1': True}, 'maximum': {'base_0': True, 'base_1': True, 'derived_0': True, 'derived_1': True}, 'mean': {'base_0': True, 'base_1': True, 'derived_0': True, 'derived_1': True}, 'minimum': {'base_0': True, 'base_1': True, 'derived_0': True, 'derived_1': True}, 'neg': {'base_0': True, 'base_1': True, 'derived_0': True, 'derived_1': True}, 'not_equal': {'base_0': True, 'base_1': True, 'derived_0': True, 'derived_1': True}, 'relu': {'base_0': True, 'base_1': True, 'derived_0': True, 'derived_1': True}, 'round': {'base_0': True, 'base_1': True, 'derived_0': True, 'derived_1': True}}\n"
     ]
    },
    {
     "name": "stderr",
     "output_type": "stream",
     "text": [
      "100%|██████████| 100/100 [00:00<00:00, 1202.29it/s]\n"
     ]
    },
    {
     "name": "stdout",
     "output_type": "stream",
     "text": [
      "{'abs': {'base_0': True, 'base_1': True, 'derived_0': True, 'derived_1': True}, 'add': {'base_0': True, 'base_1': True, 'derived_0': True, 'derived_1': True}, 'ceil': {'base_0': True, 'base_1': True, 'derived_0': True, 'derived_1': True}, 'clamp': {'base_0': True, 'base_1': True, 'derived_0': True, 'derived_1': True}, 'clip': {'base_0': True, 'base_1': True, 'derived_0': True, 'derived_1': True}, 'cos': {'base_0': True, 'base_1': True, 'derived_0': True, 'derived_1': True}, 'equal': {'base_0': True, 'base_1': True, 'derived_0': True, 'derived_1': True}, 'floor': {'base_0': True, 'base_1': True, 'derived_0': True, 'derived_1': True}, 'frac': {'base_0': True, 'base_1': True, 'derived_0': True, 'derived_1': True}, 'greater': {'base_0': True, 'base_1': True, 'derived_0': True, 'derived_1': True}, 'greater_equal': {'base_0': True, 'base_1': True, 'derived_0': True, 'derived_1': True}, 'less': {'base_0': True, 'base_1': True, 'derived_0': True, 'derived_1': True}, 'less_equal': {'base_0': True, 'base_1': True, 'derived_0': True, 'derived_1': True}, 'logical_and': {'base_0': True, 'base_1': True, 'derived_0': True, 'derived_1': True}, 'logical_not': {'base_0': True, 'base_1': True, 'derived_0': True, 'derived_1': True}, 'logical_or': {'base_0': True, 'base_1': True, 'derived_0': True, 'derived_1': True}, 'logical_xor': {'base_0': True, 'base_1': True, 'derived_0': True, 'derived_1': True}, 'maximum': {'base_0': True, 'base_1': True, 'derived_0': True, 'derived_1': True}, 'mean': {'base_0': True, 'base_1': True, 'derived_0': True, 'derived_1': True}, 'minimum': {'base_0': True, 'base_1': True, 'derived_0': True, 'derived_1': True}, 'neg': {'base_0': True, 'base_1': True, 'derived_0': True, 'derived_1': True}, 'not_equal': {'base_0': True, 'base_1': True, 'derived_0': True, 'derived_1': True}, 'relu': {'base_0': True, 'base_1': True, 'derived_0': True, 'derived_1': True}, 'round': {'base_0': True, 'base_1': True, 'derived_0': True, 'derived_1': True}, 'sigmoid': {'base_0': True, 'base_1': True, 'derived_0': True, 'derived_1': True}}\n"
     ]
    },
    {
     "name": "stderr",
     "output_type": "stream",
     "text": [
      "100%|██████████| 100/100 [00:00<00:00, 1159.93it/s]\n"
     ]
    },
    {
     "name": "stdout",
     "output_type": "stream",
     "text": [
      "{'abs': {'base_0': True, 'base_1': True, 'derived_0': True, 'derived_1': True}, 'add': {'base_0': True, 'base_1': True, 'derived_0': True, 'derived_1': True}, 'ceil': {'base_0': True, 'base_1': True, 'derived_0': True, 'derived_1': True}, 'clamp': {'base_0': True, 'base_1': True, 'derived_0': True, 'derived_1': True}, 'clip': {'base_0': True, 'base_1': True, 'derived_0': True, 'derived_1': True}, 'cos': {'base_0': True, 'base_1': True, 'derived_0': True, 'derived_1': True}, 'equal': {'base_0': True, 'base_1': True, 'derived_0': True, 'derived_1': True}, 'floor': {'base_0': True, 'base_1': True, 'derived_0': True, 'derived_1': True}, 'frac': {'base_0': True, 'base_1': True, 'derived_0': True, 'derived_1': True}, 'greater': {'base_0': True, 'base_1': True, 'derived_0': True, 'derived_1': True}, 'greater_equal': {'base_0': True, 'base_1': True, 'derived_0': True, 'derived_1': True}, 'less': {'base_0': True, 'base_1': True, 'derived_0': True, 'derived_1': True}, 'less_equal': {'base_0': True, 'base_1': True, 'derived_0': True, 'derived_1': True}, 'logical_and': {'base_0': True, 'base_1': True, 'derived_0': True, 'derived_1': True}, 'logical_not': {'base_0': True, 'base_1': True, 'derived_0': True, 'derived_1': True}, 'logical_or': {'base_0': True, 'base_1': True, 'derived_0': True, 'derived_1': True}, 'logical_xor': {'base_0': True, 'base_1': True, 'derived_0': True, 'derived_1': True}, 'maximum': {'base_0': True, 'base_1': True, 'derived_0': True, 'derived_1': True}, 'mean': {'base_0': True, 'base_1': True, 'derived_0': True, 'derived_1': True}, 'minimum': {'base_0': True, 'base_1': True, 'derived_0': True, 'derived_1': True}, 'neg': {'base_0': True, 'base_1': True, 'derived_0': True, 'derived_1': True}, 'not_equal': {'base_0': True, 'base_1': True, 'derived_0': True, 'derived_1': True}, 'relu': {'base_0': True, 'base_1': True, 'derived_0': True, 'derived_1': True}, 'round': {'base_0': True, 'base_1': True, 'derived_0': True, 'derived_1': True}, 'sigmoid': {'base_0': True, 'base_1': True, 'derived_0': True, 'derived_1': True}, 'sign': {'base_0': True, 'base_1': True, 'derived_0': True, 'derived_1': True}}\n"
     ]
    },
    {
     "name": "stderr",
     "output_type": "stream",
     "text": [
      "100%|██████████| 100/100 [00:00<00:00, 1073.78it/s]\n"
     ]
    },
    {
     "name": "stdout",
     "output_type": "stream",
     "text": [
      "{'abs': {'base_0': True, 'base_1': True, 'derived_0': True, 'derived_1': True}, 'add': {'base_0': True, 'base_1': True, 'derived_0': True, 'derived_1': True}, 'ceil': {'base_0': True, 'base_1': True, 'derived_0': True, 'derived_1': True}, 'clamp': {'base_0': True, 'base_1': True, 'derived_0': True, 'derived_1': True}, 'clip': {'base_0': True, 'base_1': True, 'derived_0': True, 'derived_1': True}, 'cos': {'base_0': True, 'base_1': True, 'derived_0': True, 'derived_1': True}, 'equal': {'base_0': True, 'base_1': True, 'derived_0': True, 'derived_1': True}, 'floor': {'base_0': True, 'base_1': True, 'derived_0': True, 'derived_1': True}, 'frac': {'base_0': True, 'base_1': True, 'derived_0': True, 'derived_1': True}, 'greater': {'base_0': True, 'base_1': True, 'derived_0': True, 'derived_1': True}, 'greater_equal': {'base_0': True, 'base_1': True, 'derived_0': True, 'derived_1': True}, 'less': {'base_0': True, 'base_1': True, 'derived_0': True, 'derived_1': True}, 'less_equal': {'base_0': True, 'base_1': True, 'derived_0': True, 'derived_1': True}, 'logical_and': {'base_0': True, 'base_1': True, 'derived_0': True, 'derived_1': True}, 'logical_not': {'base_0': True, 'base_1': True, 'derived_0': True, 'derived_1': True}, 'logical_or': {'base_0': True, 'base_1': True, 'derived_0': True, 'derived_1': True}, 'logical_xor': {'base_0': True, 'base_1': True, 'derived_0': True, 'derived_1': True}, 'maximum': {'base_0': True, 'base_1': True, 'derived_0': True, 'derived_1': True}, 'mean': {'base_0': True, 'base_1': True, 'derived_0': True, 'derived_1': True}, 'minimum': {'base_0': True, 'base_1': True, 'derived_0': True, 'derived_1': True}, 'neg': {'base_0': True, 'base_1': True, 'derived_0': True, 'derived_1': True}, 'not_equal': {'base_0': True, 'base_1': True, 'derived_0': True, 'derived_1': True}, 'relu': {'base_0': True, 'base_1': True, 'derived_0': True, 'derived_1': True}, 'round': {'base_0': True, 'base_1': True, 'derived_0': True, 'derived_1': True}, 'sigmoid': {'base_0': True, 'base_1': True, 'derived_0': True, 'derived_1': True}, 'sign': {'base_0': True, 'base_1': True, 'derived_0': True, 'derived_1': True}, 'sin': {'base_0': True, 'base_1': True, 'derived_0': True, 'derived_1': True}}\n"
     ]
    },
    {
     "name": "stderr",
     "output_type": "stream",
     "text": [
      "  0%|          | 0/100 [00:00<?, ?it/s]\n"
     ]
    },
    {
     "name": "stdout",
     "output_type": "stream",
     "text": [
      "tensor([[6.9973e+09, 6.9973e+09]], device='cuda:0')\n",
      "torch.Size([1, 2])\n",
      "{'abs': {'base_0': True, 'base_1': True, 'derived_0': True, 'derived_1': True}, 'add': {'base_0': True, 'base_1': True, 'derived_0': True, 'derived_1': True}, 'ceil': {'base_0': True, 'base_1': True, 'derived_0': True, 'derived_1': True}, 'clamp': {'base_0': True, 'base_1': True, 'derived_0': True, 'derived_1': True}, 'clip': {'base_0': True, 'base_1': True, 'derived_0': True, 'derived_1': True}, 'cos': {'base_0': True, 'base_1': True, 'derived_0': True, 'derived_1': True}, 'equal': {'base_0': True, 'base_1': True, 'derived_0': True, 'derived_1': True}, 'floor': {'base_0': True, 'base_1': True, 'derived_0': True, 'derived_1': True}, 'frac': {'base_0': True, 'base_1': True, 'derived_0': True, 'derived_1': True}, 'greater': {'base_0': True, 'base_1': True, 'derived_0': True, 'derived_1': True}, 'greater_equal': {'base_0': True, 'base_1': True, 'derived_0': True, 'derived_1': True}, 'less': {'base_0': True, 'base_1': True, 'derived_0': True, 'derived_1': True}, 'less_equal': {'base_0': True, 'base_1': True, 'derived_0': True, 'derived_1': True}, 'logical_and': {'base_0': True, 'base_1': True, 'derived_0': True, 'derived_1': True}, 'logical_not': {'base_0': True, 'base_1': True, 'derived_0': True, 'derived_1': True}, 'logical_or': {'base_0': True, 'base_1': True, 'derived_0': True, 'derived_1': True}, 'logical_xor': {'base_0': True, 'base_1': True, 'derived_0': True, 'derived_1': True}, 'maximum': {'base_0': True, 'base_1': True, 'derived_0': True, 'derived_1': True}, 'mean': {'base_0': True, 'base_1': True, 'derived_0': True, 'derived_1': True}, 'minimum': {'base_0': True, 'base_1': True, 'derived_0': True, 'derived_1': True}, 'neg': {'base_0': True, 'base_1': True, 'derived_0': True, 'derived_1': True}, 'not_equal': {'base_0': True, 'base_1': True, 'derived_0': True, 'derived_1': True}, 'relu': {'base_0': True, 'base_1': True, 'derived_0': True, 'derived_1': True}, 'round': {'base_0': True, 'base_1': True, 'derived_0': True, 'derived_1': True}, 'sigmoid': {'base_0': True, 'base_1': True, 'derived_0': True, 'derived_1': True}, 'sign': {'base_0': True, 'base_1': True, 'derived_0': True, 'derived_1': True}, 'sin': {'base_0': True, 'base_1': True, 'derived_0': True, 'derived_1': True}, 'sub': {'base_0': True, 'base_1': True, 'derived_0': True, 'derived_1': True}}\n"
     ]
    },
    {
     "name": "stderr",
     "output_type": "stream",
     "text": [
      "100%|██████████| 100/100 [00:00<00:00, 1111.81it/s]"
     ]
    },
    {
     "name": "stdout",
     "output_type": "stream",
     "text": [
      "{'abs': {'base_0': True, 'base_1': True, 'derived_0': True, 'derived_1': True}, 'add': {'base_0': True, 'base_1': True, 'derived_0': True, 'derived_1': True}, 'ceil': {'base_0': True, 'base_1': True, 'derived_0': True, 'derived_1': True}, 'clamp': {'base_0': True, 'base_1': True, 'derived_0': True, 'derived_1': True}, 'clip': {'base_0': True, 'base_1': True, 'derived_0': True, 'derived_1': True}, 'cos': {'base_0': True, 'base_1': True, 'derived_0': True, 'derived_1': True}, 'equal': {'base_0': True, 'base_1': True, 'derived_0': True, 'derived_1': True}, 'floor': {'base_0': True, 'base_1': True, 'derived_0': True, 'derived_1': True}, 'frac': {'base_0': True, 'base_1': True, 'derived_0': True, 'derived_1': True}, 'greater': {'base_0': True, 'base_1': True, 'derived_0': True, 'derived_1': True}, 'greater_equal': {'base_0': True, 'base_1': True, 'derived_0': True, 'derived_1': True}, 'less': {'base_0': True, 'base_1': True, 'derived_0': True, 'derived_1': True}, 'less_equal': {'base_0': True, 'base_1': True, 'derived_0': True, 'derived_1': True}, 'logical_and': {'base_0': True, 'base_1': True, 'derived_0': True, 'derived_1': True}, 'logical_not': {'base_0': True, 'base_1': True, 'derived_0': True, 'derived_1': True}, 'logical_or': {'base_0': True, 'base_1': True, 'derived_0': True, 'derived_1': True}, 'logical_xor': {'base_0': True, 'base_1': True, 'derived_0': True, 'derived_1': True}, 'maximum': {'base_0': True, 'base_1': True, 'derived_0': True, 'derived_1': True}, 'mean': {'base_0': True, 'base_1': True, 'derived_0': True, 'derived_1': True}, 'minimum': {'base_0': True, 'base_1': True, 'derived_0': True, 'derived_1': True}, 'neg': {'base_0': True, 'base_1': True, 'derived_0': True, 'derived_1': True}, 'not_equal': {'base_0': True, 'base_1': True, 'derived_0': True, 'derived_1': True}, 'relu': {'base_0': True, 'base_1': True, 'derived_0': True, 'derived_1': True}, 'round': {'base_0': True, 'base_1': True, 'derived_0': True, 'derived_1': True}, 'sigmoid': {'base_0': True, 'base_1': True, 'derived_0': True, 'derived_1': True}, 'sign': {'base_0': True, 'base_1': True, 'derived_0': True, 'derived_1': True}, 'sin': {'base_0': True, 'base_1': True, 'derived_0': True, 'derived_1': True}, 'sub': {'base_0': True, 'base_1': True, 'derived_0': True, 'derived_1': True}, 'trunc': {'base_0': True, 'base_1': True, 'derived_0': True, 'derived_1': True}}\n"
     ]
    },
    {
     "name": "stderr",
     "output_type": "stream",
     "text": [
      "\n"
     ]
    }
   ],
   "source": [
    "# create mixedop instance \n",
    "target_mix = MixedFunc(FuncPool())\n",
    "\n",
    "\n",
    "# you can access number of arguments by MixedFunc.num_args.\n",
    "result_dict = {}\n",
    "for i in range(len(target_mix.flist)):\n",
    "    func_name = target_mix.flist[i]\n",
    "    func = getattr(target_mix.Flist, func_name)\n",
    "    alph_sim = nn.Linear(target_mix.num_args[i],1).to(\"cuda:0\")\n",
    "\n",
    "    inspect_res = func_inspect_func(func, target_mix.num_args[i], alph_sim)\n",
    "    result_dict[func_name] = inspect_res\n",
    "    \n",
    "    # if any values are false, return it\n",
    "    for key in result_dict.keys():\n",
    "        if result_dict[key] == False:\n",
    "            print(func_name)\n",
    "    "
   ]
  },
  {
   "cell_type": "code",
   "execution_count": null,
   "metadata": {},
   "outputs": [],
   "source": []
  }
 ],
 "metadata": {
  "kernelspec": {
   "display_name": "base",
   "language": "python",
   "name": "python3"
  },
  "language_info": {
   "codemirror_mode": {
    "name": "ipython",
    "version": 3
   },
   "file_extension": ".py",
   "mimetype": "text/x-python",
   "name": "python",
   "nbconvert_exporter": "python",
   "pygments_lexer": "ipython3",
   "version": "3.9.18"
  }
 },
 "nbformat": 4,
 "nbformat_minor": 2
}
