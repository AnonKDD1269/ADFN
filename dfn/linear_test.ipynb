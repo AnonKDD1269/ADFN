{
 "cells": [
  {
   "cell_type": "code",
   "execution_count": 1,
   "metadata": {},
   "outputs": [
    {
     "name": "stderr",
     "output_type": "stream",
     "text": [
      "/home/bosung/anaconda3/lib/python3.9/site-packages/torchvision/io/image.py:13: UserWarning: Failed to load image Python extension: libtorch_cuda_cu.so: cannot open shared object file: No such file or directory\n",
      "  warn(f\"Failed to load image Python extension: {e}\")\n"
     ]
    },
    {
     "name": "stdout",
     "output_type": "stream",
     "text": [
      "Downloading http://yann.lecun.com/exdb/mnist/train-images-idx3-ubyte.gz\n",
      "Downloading http://yann.lecun.com/exdb/mnist/train-images-idx3-ubyte.gz to ./data/MNIST/raw/train-images-idx3-ubyte.gz\n"
     ]
    },
    {
     "name": "stderr",
     "output_type": "stream",
     "text": [
      "9913344it [00:01, 6754200.08it/s]                              \n"
     ]
    },
    {
     "name": "stdout",
     "output_type": "stream",
     "text": [
      "Extracting ./data/MNIST/raw/train-images-idx3-ubyte.gz to ./data/MNIST/raw\n",
      "\n",
      "Downloading http://yann.lecun.com/exdb/mnist/train-labels-idx1-ubyte.gz\n",
      "Downloading http://yann.lecun.com/exdb/mnist/train-labels-idx1-ubyte.gz to ./data/MNIST/raw/train-labels-idx1-ubyte.gz\n"
     ]
    },
    {
     "name": "stderr",
     "output_type": "stream",
     "text": [
      "29696it [00:00, 894084.74it/s]           \n"
     ]
    },
    {
     "name": "stdout",
     "output_type": "stream",
     "text": [
      "Extracting ./data/MNIST/raw/train-labels-idx1-ubyte.gz to ./data/MNIST/raw\n",
      "\n",
      "Downloading http://yann.lecun.com/exdb/mnist/t10k-images-idx3-ubyte.gz\n",
      "Downloading http://yann.lecun.com/exdb/mnist/t10k-images-idx3-ubyte.gz to ./data/MNIST/raw/t10k-images-idx3-ubyte.gz\n"
     ]
    },
    {
     "name": "stderr",
     "output_type": "stream",
     "text": [
      "1649664it [00:00, 1922968.96it/s]                             \n"
     ]
    },
    {
     "name": "stdout",
     "output_type": "stream",
     "text": [
      "Extracting ./data/MNIST/raw/t10k-images-idx3-ubyte.gz to ./data/MNIST/raw\n",
      "\n",
      "Downloading http://yann.lecun.com/exdb/mnist/t10k-labels-idx1-ubyte.gz\n",
      "Downloading http://yann.lecun.com/exdb/mnist/t10k-labels-idx1-ubyte.gz to ./data/MNIST/raw/t10k-labels-idx1-ubyte.gz\n"
     ]
    },
    {
     "name": "stderr",
     "output_type": "stream",
     "text": [
      "5120it [00:00, 9510556.46it/s]          \n"
     ]
    },
    {
     "name": "stdout",
     "output_type": "stream",
     "text": [
      "Extracting ./data/MNIST/raw/t10k-labels-idx1-ubyte.gz to ./data/MNIST/raw\n",
      "\n",
      "Epoch [1/10], Step [100/938], Loss: 0.6864\n",
      "Epoch [1/10], Step [200/938], Loss: 0.4771\n",
      "Epoch [1/10], Step [300/938], Loss: 0.4810\n",
      "Epoch [1/10], Step [400/938], Loss: 0.7025\n",
      "Epoch [1/10], Step [500/938], Loss: 0.2717\n",
      "Epoch [1/10], Step [600/938], Loss: 0.4637\n",
      "Epoch [1/10], Step [700/938], Loss: 0.5501\n",
      "Epoch [1/10], Step [800/938], Loss: 0.4003\n",
      "Epoch [1/10], Step [900/938], Loss: 0.4138\n",
      "Epoch [2/10], Step [100/938], Loss: 0.3411\n",
      "Epoch [2/10], Step [200/938], Loss: 0.3436\n",
      "Epoch [2/10], Step [300/938], Loss: 0.5511\n",
      "Epoch [2/10], Step [400/938], Loss: 0.4869\n",
      "Epoch [2/10], Step [500/938], Loss: 0.4117\n",
      "Epoch [2/10], Step [600/938], Loss: 0.2690\n",
      "Epoch [2/10], Step [700/938], Loss: 0.2928\n",
      "Epoch [2/10], Step [800/938], Loss: 0.3721\n",
      "Epoch [2/10], Step [900/938], Loss: 0.3113\n",
      "Epoch [3/10], Step [100/938], Loss: 0.3754\n",
      "Epoch [3/10], Step [200/938], Loss: 0.2287\n",
      "Epoch [3/10], Step [300/938], Loss: 0.3345\n",
      "Epoch [3/10], Step [400/938], Loss: 0.2746\n",
      "Epoch [3/10], Step [500/938], Loss: 0.3202\n",
      "Epoch [3/10], Step [600/938], Loss: 0.2547\n",
      "Epoch [3/10], Step [700/938], Loss: 0.4313\n",
      "Epoch [3/10], Step [800/938], Loss: 0.3170\n",
      "Epoch [3/10], Step [900/938], Loss: 0.5245\n",
      "Epoch [4/10], Step [100/938], Loss: 0.1957\n",
      "Epoch [4/10], Step [200/938], Loss: 0.3386\n",
      "Epoch [4/10], Step [300/938], Loss: 0.3138\n",
      "Epoch [4/10], Step [400/938], Loss: 0.3219\n",
      "Epoch [4/10], Step [500/938], Loss: 0.3813\n",
      "Epoch [4/10], Step [600/938], Loss: 0.2830\n",
      "Epoch [4/10], Step [700/938], Loss: 0.2426\n",
      "Epoch [4/10], Step [800/938], Loss: 0.2428\n",
      "Epoch [4/10], Step [900/938], Loss: 0.2917\n",
      "Epoch [5/10], Step [100/938], Loss: 0.3051\n",
      "Epoch [5/10], Step [200/938], Loss: 0.1799\n",
      "Epoch [5/10], Step [300/938], Loss: 0.3531\n",
      "Epoch [5/10], Step [400/938], Loss: 0.4984\n",
      "Epoch [5/10], Step [500/938], Loss: 0.1707\n",
      "Epoch [5/10], Step [600/938], Loss: 0.3591\n",
      "Epoch [5/10], Step [700/938], Loss: 0.3651\n",
      "Epoch [5/10], Step [800/938], Loss: 0.2259\n",
      "Epoch [5/10], Step [900/938], Loss: 0.3005\n",
      "Epoch [6/10], Step [100/938], Loss: 0.1565\n",
      "Epoch [6/10], Step [200/938], Loss: 0.1442\n",
      "Epoch [6/10], Step [300/938], Loss: 0.3229\n",
      "Epoch [6/10], Step [400/938], Loss: 0.2769\n",
      "Epoch [6/10], Step [500/938], Loss: 0.2328\n",
      "Epoch [6/10], Step [600/938], Loss: 0.2816\n",
      "Epoch [6/10], Step [700/938], Loss: 0.3079\n",
      "Epoch [6/10], Step [800/938], Loss: 0.3923\n",
      "Epoch [6/10], Step [900/938], Loss: 0.3177\n",
      "Epoch [7/10], Step [100/938], Loss: 0.2274\n",
      "Epoch [7/10], Step [200/938], Loss: 0.3714\n",
      "Epoch [7/10], Step [300/938], Loss: 0.2633\n",
      "Epoch [7/10], Step [400/938], Loss: 0.2133\n",
      "Epoch [7/10], Step [500/938], Loss: 0.1906\n",
      "Epoch [7/10], Step [600/938], Loss: 0.3291\n",
      "Epoch [7/10], Step [700/938], Loss: 0.2901\n",
      "Epoch [7/10], Step [800/938], Loss: 0.2795\n",
      "Epoch [7/10], Step [900/938], Loss: 0.4760\n",
      "Epoch [8/10], Step [100/938], Loss: 0.0972\n",
      "Epoch [8/10], Step [200/938], Loss: 0.1150\n",
      "Epoch [8/10], Step [300/938], Loss: 0.1894\n",
      "Epoch [8/10], Step [400/938], Loss: 0.2464\n",
      "Epoch [8/10], Step [500/938], Loss: 0.1027\n",
      "Epoch [8/10], Step [600/938], Loss: 0.6633\n",
      "Epoch [8/10], Step [700/938], Loss: 0.1848\n",
      "Epoch [8/10], Step [800/938], Loss: 0.2450\n",
      "Epoch [8/10], Step [900/938], Loss: 0.2182\n",
      "Epoch [9/10], Step [100/938], Loss: 0.2021\n",
      "Epoch [9/10], Step [200/938], Loss: 0.1962\n",
      "Epoch [9/10], Step [300/938], Loss: 0.2340\n",
      "Epoch [9/10], Step [400/938], Loss: 0.2762\n",
      "Epoch [9/10], Step [500/938], Loss: 0.1797\n",
      "Epoch [9/10], Step [600/938], Loss: 0.2958\n",
      "Epoch [9/10], Step [700/938], Loss: 0.2896\n",
      "Epoch [9/10], Step [800/938], Loss: 0.1808\n",
      "Epoch [9/10], Step [900/938], Loss: 0.3807\n",
      "Epoch [10/10], Step [100/938], Loss: 0.1126\n",
      "Epoch [10/10], Step [200/938], Loss: 0.1245\n",
      "Epoch [10/10], Step [300/938], Loss: 0.2605\n",
      "Epoch [10/10], Step [400/938], Loss: 0.2722\n",
      "Epoch [10/10], Step [500/938], Loss: 0.1359\n",
      "Epoch [10/10], Step [600/938], Loss: 0.2593\n",
      "Epoch [10/10], Step [700/938], Loss: 0.3550\n",
      "Epoch [10/10], Step [800/938], Loss: 0.2699\n",
      "Epoch [10/10], Step [900/938], Loss: 0.2652\n",
      "Test Accuracy: 92.07%\n"
     ]
    }
   ],
   "source": [
    "import torch\n",
    "from torchvision import datasets, transforms\n",
    "import torch.nn as nn\n",
    "import torch.optim as optim\n",
    "\n",
    "# Define the linear model\n",
    "class LinearModel(nn.Module):\n",
    "    def __init__(self):\n",
    "        super(LinearModel, self).__init__()\n",
    "        self.fc = nn.Linear(784, 10)  # 784 input features, 10 output classes\n",
    "\n",
    "    def forward(self, x):\n",
    "        x = x.view(x.size(0), -1)  # Flatten the input tensor\n",
    "        x = self.fc(x)\n",
    "        return x\n",
    "\n",
    "# Load the MNIST dataset\n",
    "transform = transforms.Compose([\n",
    "    transforms.ToTensor(),\n",
    "    transforms.Normalize((0.1307,), (0.3081,))\n",
    "])\n",
    "\n",
    "train_dataset = datasets.MNIST(root='./data', train=True, download=True, transform=transform)\n",
    "test_dataset = datasets.MNIST(root='./data', train=False, download=True, transform=transform)\n",
    "\n",
    "train_loader = torch.utils.data.DataLoader(train_dataset, batch_size=64, shuffle=True)\n",
    "test_loader = torch.utils.data.DataLoader(test_dataset, batch_size=64, shuffle=False)\n",
    "\n",
    "# Create the linear model\n",
    "model = LinearModel()\n",
    "\n",
    "# Define the loss function and optimizer\n",
    "criterion = nn.CrossEntropyLoss()\n",
    "optimizer = optim.SGD(model.parameters(), lr=0.01)\n",
    "\n",
    "# Train the model\n",
    "num_epochs = 10\n",
    "for epoch in range(num_epochs):\n",
    "    for batch_idx, (data, targets) in enumerate(train_loader):\n",
    "        optimizer.zero_grad()\n",
    "        outputs = model(data)\n",
    "        loss = criterion(outputs, targets)\n",
    "        loss.backward()\n",
    "        optimizer.step()\n",
    "\n",
    "        if (batch_idx+1) % 100 == 0:\n",
    "            print(f'Epoch [{epoch+1}/{num_epochs}], Step [{batch_idx+1}/{len(train_loader)}], Loss: {loss.item():.4f}')\n",
    "\n",
    "# Test the model\n",
    "model.eval()\n",
    "with torch.no_grad():\n",
    "    correct = 0\n",
    "    total = 0\n",
    "    for data, targets in test_loader:\n",
    "        outputs = model(data)\n",
    "        _, predicted = torch.max(outputs.data, 1)\n",
    "        total += targets.size(0)\n",
    "        correct += (predicted == targets).sum().item()\n",
    "\n",
    "    accuracy = 100 * correct / total\n",
    "    print(f'Test Accuracy: {accuracy:.2f}%')\n"
   ]
  }
 ],
 "metadata": {
  "kernelspec": {
   "display_name": "base",
   "language": "python",
   "name": "python3"
  },
  "language_info": {
   "codemirror_mode": {
    "name": "ipython",
    "version": 3
   },
   "file_extension": ".py",
   "mimetype": "text/x-python",
   "name": "python",
   "nbconvert_exporter": "python",
   "pygments_lexer": "ipython3",
   "version": "3.9.7"
  }
 },
 "nbformat": 4,
 "nbformat_minor": 2
}
