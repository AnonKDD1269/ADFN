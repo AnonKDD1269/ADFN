{
 "cells": [
  {
   "cell_type": "code",
   "execution_count": 116,
   "metadata": {},
   "outputs": [],
   "source": [
    "import torch \n",
    "import torch.nn as nn \n",
    "import torch.optim as optim\n",
    "import torch.nn.functional as F\n",
    "import numpy as np \n",
    "from tqdm import tqdm \n",
    "\n",
    "\n",
    "class RevDataset(torch.utils.data.Dataset):\n",
    "    def __init__(self, data, labels):\n",
    "        # 1 to 100 , length 5\n",
    "        self.data = torch.randint(1, 100, (25000,5), dtype=torch.float32)\n",
    "        self.labels = torch.flip(self.data, [1])\n",
    "\n",
    "    def __len__(self):\n",
    "        return len(self.data)\n",
    "\n",
    "    def __getitem__(self, idx):\n",
    "        return self.data[idx], self.labels[idx]"
   ]
  },
  {
   "cell_type": "code",
   "execution_count": 117,
   "metadata": {},
   "outputs": [],
   "source": [
    "dataset = RevDataset(None, None)\n"
   ]
  },
  {
   "cell_type": "code",
   "execution_count": 118,
   "metadata": {},
   "outputs": [],
   "source": [
    "dataloader = torch.utils.data.DataLoader(dataset, batch_size=256, shuffle=True)"
   ]
  },
  {
   "cell_type": "code",
   "execution_count": 119,
   "metadata": {},
   "outputs": [],
   "source": [
    "class SimpleNN(nn.Module):\n",
    "    def __init__(self):\n",
    "        super(SimpleNN, self).__init__()\n",
    "        self.fc1 = nn.Linear(5, 128)\n",
    "        self.fc2 = nn.Linear(128, 64)\n",
    "        self.fc3 = nn.Linear(64, 32)\n",
    "        self.fc4 = nn.Linear(32, 16)\n",
    "        self.fc5 = nn.Linear(16, 5)\n",
    "\n",
    "    def forward(self, x):\n",
    "        x = F.relu(self.fc1(x))\n",
    "        x = F.relu(self.fc2(x))\n",
    "        x = F.relu(self.fc3(x))\n",
    "        x = F.relu(self.fc4(x))\n",
    "        x = self.fc5(x)\n",
    "        return x\n"
   ]
  },
  {
   "cell_type": "code",
   "execution_count": 120,
   "metadata": {},
   "outputs": [
    {
     "name": "stdout",
     "output_type": "stream",
     "text": [
      "Epoch: 0, Loss: 526.61181640625\n",
      "Epoch: 1, Loss: 265.7384948730469\n",
      "Epoch: 2, Loss: 3.894103527069092\n",
      "Epoch: 3, Loss: 1.0816216468811035\n",
      "Epoch: 4, Loss: 0.850942850112915\n",
      "Epoch: 5, Loss: 0.39855027198791504\n",
      "Epoch: 6, Loss: 0.5145599246025085\n",
      "Epoch: 7, Loss: 0.42223799228668213\n",
      "Epoch: 8, Loss: 0.2140520215034485\n",
      "Epoch: 9, Loss: 0.21856020390987396\n",
      "Epoch: 10, Loss: 0.35357338190078735\n",
      "Epoch: 11, Loss: 0.124981589615345\n",
      "Epoch: 12, Loss: 0.16279447078704834\n",
      "Epoch: 13, Loss: 0.18436606228351593\n",
      "Epoch: 14, Loss: 0.21012572944164276\n",
      "Epoch: 15, Loss: 0.14132362604141235\n",
      "Epoch: 16, Loss: 0.12793584167957306\n",
      "Epoch: 17, Loss: 0.08828786015510559\n",
      "Epoch: 18, Loss: 0.19001340866088867\n",
      "Epoch: 19, Loss: 0.1785392463207245\n",
      "Epoch: 20, Loss: 0.1003509983420372\n",
      "Epoch: 21, Loss: 0.1384143978357315\n",
      "Epoch: 22, Loss: 0.19333413243293762\n",
      "Epoch: 23, Loss: 0.1405288130044937\n",
      "Epoch: 24, Loss: 0.06283195316791534\n",
      "Epoch: 25, Loss: 0.0957658439874649\n",
      "Epoch: 26, Loss: 0.11255704611539841\n",
      "Epoch: 27, Loss: 0.07690345495939255\n",
      "Epoch: 28, Loss: 0.1000140905380249\n",
      "Epoch: 29, Loss: 0.22886963188648224\n",
      "Epoch: 30, Loss: 0.09539521485567093\n",
      "Epoch: 31, Loss: 0.13788817822933197\n",
      "Epoch: 32, Loss: 0.22810357809066772\n",
      "Epoch: 33, Loss: 0.0894789919257164\n",
      "Epoch: 34, Loss: 0.12391798198223114\n",
      "Epoch: 35, Loss: 0.07605483382940292\n",
      "Epoch: 36, Loss: 0.4520093500614166\n",
      "Epoch: 37, Loss: 0.039747629314661026\n",
      "Epoch: 38, Loss: 0.08077209442853928\n",
      "Epoch: 39, Loss: 0.14701257646083832\n",
      "Epoch: 40, Loss: 0.04529519006609917\n",
      "Epoch: 41, Loss: 0.04649651050567627\n",
      "Epoch: 42, Loss: 0.14771893620491028\n",
      "Epoch: 43, Loss: 0.08347666263580322\n",
      "Epoch: 44, Loss: 1.7805496454238892\n",
      "Epoch: 45, Loss: 0.037831325083971024\n",
      "Epoch: 46, Loss: 0.09542112797498703\n",
      "Epoch: 47, Loss: 0.10156084597110748\n",
      "Epoch: 48, Loss: 0.0682772770524025\n",
      "Epoch: 49, Loss: 0.028839601203799248\n",
      "Epoch: 50, Loss: 0.10299243032932281\n",
      "Epoch: 51, Loss: 0.047480542212724686\n",
      "Epoch: 52, Loss: 0.04471614584326744\n",
      "Epoch: 53, Loss: 0.07336249202489853\n",
      "Epoch: 54, Loss: 0.021263524889945984\n",
      "Epoch: 55, Loss: 0.058729562908411026\n",
      "Epoch: 56, Loss: 0.15029467642307281\n",
      "Epoch: 57, Loss: 0.545285701751709\n",
      "Epoch: 58, Loss: 0.06437665969133377\n",
      "Epoch: 59, Loss: 0.06712672114372253\n",
      "Epoch: 60, Loss: 0.03220077604055405\n",
      "Epoch: 61, Loss: 0.35421618819236755\n",
      "Epoch: 62, Loss: 0.056162793189287186\n",
      "Epoch: 63, Loss: 0.056104324758052826\n",
      "Epoch: 64, Loss: 0.2744334042072296\n",
      "Epoch: 65, Loss: 0.14194448292255402\n",
      "Epoch: 66, Loss: 0.10953091830015182\n",
      "Epoch: 67, Loss: 0.012911993078887463\n",
      "Epoch: 68, Loss: 0.02663106843829155\n",
      "Epoch: 69, Loss: 0.03539558872580528\n",
      "Epoch: 70, Loss: 0.0364619679749012\n",
      "Epoch: 71, Loss: 0.024409575387835503\n",
      "Epoch: 72, Loss: 0.044305939227342606\n",
      "Epoch: 73, Loss: 0.07513631135225296\n",
      "Epoch: 74, Loss: 0.10702155530452728\n",
      "Epoch: 75, Loss: 0.03462366387248039\n",
      "Epoch: 76, Loss: 0.02132587879896164\n",
      "Epoch: 77, Loss: 0.03128422796726227\n",
      "Epoch: 78, Loss: 0.06901035457849503\n",
      "Epoch: 79, Loss: 0.10245183110237122\n",
      "Epoch: 80, Loss: 0.03498609736561775\n",
      "Epoch: 81, Loss: 0.09581100940704346\n",
      "Epoch: 82, Loss: 0.07757596671581268\n",
      "Epoch: 83, Loss: 0.018050232902169228\n",
      "Epoch: 84, Loss: 0.034072015434503555\n",
      "Epoch: 85, Loss: 0.4570404887199402\n",
      "Epoch: 86, Loss: 0.2912712097167969\n",
      "Epoch: 87, Loss: 0.033634696155786514\n",
      "Epoch: 88, Loss: 0.12449127435684204\n",
      "Epoch: 89, Loss: 0.2570335268974304\n",
      "Epoch: 90, Loss: 0.071576789021492\n",
      "Epoch: 91, Loss: 0.07731051743030548\n",
      "Epoch: 92, Loss: 0.1341671347618103\n",
      "Epoch: 93, Loss: 0.03112855926156044\n",
      "Epoch: 94, Loss: 0.017979489639401436\n",
      "Epoch: 95, Loss: 0.03493233770132065\n",
      "Epoch: 96, Loss: 0.08264310657978058\n",
      "Epoch: 97, Loss: 0.019792089238762856\n",
      "Epoch: 98, Loss: 0.023041600361466408\n",
      "Epoch: 99, Loss: 0.06464669108390808\n"
     ]
    }
   ],
   "source": [
    "model = SimpleNN()\n",
    "criterion = nn.MSELoss()\n",
    "optimizer = optim.Adam(model.parameters(), lr=0.001)\n",
    "\n",
    "epochs = 100\n",
    "\n",
    "for epoch in range(epochs):\n",
    "    for data, labels in dataloader:\n",
    "        optimizer.zero_grad()\n",
    "        outputs = model(data)\n",
    "        loss = criterion(outputs, labels)\n",
    "        loss.backward()\n",
    "        optimizer.step()\n"
   ]
  },
  {
   "cell_type": "code",
   "execution_count": 121,
   "metadata": {},
   "outputs": [
    {
     "name": "stdout",
     "output_type": "stream",
     "text": [
      "tensor([5.0384, 3.9985, 3.0538, 2.0347, 0.9931], grad_fn=<ViewBackward0>)\n"
     ]
    }
   ],
   "source": [
    "test = torch.tensor([1,2,3,4,5], dtype=torch.float32)\n",
    "print(model(test))\n"
   ]
  }
 ],
 "metadata": {
  "kernelspec": {
   "display_name": "dfn",
   "language": "python",
   "name": "python3"
  },
  "language_info": {
   "codemirror_mode": {
    "name": "ipython",
    "version": 3
   },
   "file_extension": ".py",
   "mimetype": "text/x-python",
   "name": "python",
   "nbconvert_exporter": "python",
   "pygments_lexer": "ipython3",
   "version": "3.10.16"
  }
 },
 "nbformat": 4,
 "nbformat_minor": 2
}
