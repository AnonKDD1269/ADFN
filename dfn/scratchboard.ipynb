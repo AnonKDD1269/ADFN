{
 "cells": [
  {
   "cell_type": "code",
   "execution_count": 1,
   "metadata": {},
   "outputs": [
    {
     "name": "stdout",
     "output_type": "stream",
     "text": [
      "tensor([  8.2936,  40.1806,  99.7651, -50.0500, -38.1479, -12.8715,  28.1121,\n",
      "         33.2948, -14.1945, -85.4007, -25.4517,  69.8477])\n"
     ]
    }
   ],
   "source": [
    "import torch\n",
    "import torch.nn as nn\n",
    "\n",
    "n= 12\n",
    "k= 12\n",
    "weights = torch.randn(k, n)\n",
    "input_tensor = torch.ones(15, n)\n",
    "res_tensor = torch.Tensor([])\n",
    "\n",
    "# For each element in input, multiply it by the corresponding weight, then sum them up\n",
    "for row in weights:\n",
    "    new_input = input_tensor * row # default is hadamard. \n",
    "    sum_result = torch.sum(new_input)\n",
    "    res_tensor = torch.cat((res_tensor, sum_result.view(1)))\n",
    "print(res_tensor)"
   ]
  },
  {
   "cell_type": "code",
   "execution_count": 2,
   "metadata": {},
   "outputs": [
    {
     "name": "stdout",
     "output_type": "stream",
     "text": [
      "tensor([ 4, 10, 18])\n"
     ]
    }
   ],
   "source": [
    "a = torch.tensor([1,2,3])\n",
    "b = torch.tensor([4,5,6])\n",
    "\n",
    "print(a*b)"
   ]
  },
  {
   "cell_type": "code",
   "execution_count": 3,
   "metadata": {},
   "outputs": [
    {
     "name": "stdout",
     "output_type": "stream",
     "text": [
      "Weights :  Parameter containing:\n",
      "tensor([[0.1000, 0.2000, 0.3000],\n",
      "        [0.4000, 0.5000, 0.6000]], requires_grad=True)\n",
      "grads of linear layer 1:\n",
      " tensor([[-4.2068, -4.2068, -4.2068],\n",
      "        [ 2.4381,  2.4381,  2.4381]])\n",
      "grads of linear layer 2:\n",
      " tensor([[  0.8907,   5.6621],\n",
      "        [ -2.2406, -14.2431]])\n",
      "grads of linear layer 3:\n",
      " tensor([[1.5191, 2.8220]])\n"
     ]
    }
   ],
   "source": [
    "import torch\n",
    "import torch.nn as nn\n",
    "\n",
    "a = torch.tensor([[0.1,0.2,0.3],[0.4,0.5,0.6]])\n",
    "# make 1,3 weighted linear layer\n",
    "linear = nn.Linear(3,2) \n",
    "linear2 = nn.Linear(2,2)\n",
    "linear3 = nn.Linear(2,1)\n",
    "# assign a as a weight of linear layer\n",
    "linear.weight = nn.Parameter(a)\n",
    "print(\"Weights : \",linear.weight)\n",
    "input_tensor = torch.ones(15, 3)\n",
    "optimizer = torch.optim.SGD(linear.parameters(), lr=0.01)\n",
    "\n",
    "# go through linear layer, get the gradient of a.\n",
    "optimizer.zero_grad()\n",
    "output = linear(input_tensor)\n",
    "output = linear2(output)\n",
    "output = linear3(output)\n",
    "loss = torch.sum(output)\n",
    "loss.backward()\n",
    "print(\"grads of linear layer 1:\\n\", linear.weight.grad)\n",
    "print(\"grads of linear layer 2:\\n\", linear2.weight.grad)\n",
    "print(\"grads of linear layer 3:\\n\", linear3.weight.grad)"
   ]
  },
  {
   "cell_type": "markdown",
   "metadata": {},
   "source": []
  },
  {
   "cell_type": "code",
   "execution_count": 4,
   "metadata": {},
   "outputs": [
    {
     "name": "stdout",
     "output_type": "stream",
     "text": [
      "torch.Size([5])\n",
      "torch.Size([5])\n"
     ]
    }
   ],
   "source": [
    "a = torch.rand(5)\n",
    "print(a.shape)\n",
    "b = torch.sin(a)\n",
    "print(b.shape)\n"
   ]
  },
  {
   "cell_type": "code",
   "execution_count": 5,
   "metadata": {},
   "outputs": [
    {
     "name": "stdout",
     "output_type": "stream",
     "text": [
      "tensor([[0.1303, 0.1001, 0.1048, 0.1032, 0.1024, 0.1206, 0.1820, 0.1094, 0.1066],\n",
      "        [0.1026, 0.1171, 0.1008, 0.1088, 0.1202, 0.0997, 0.1007, 0.1004, 0.1127],\n",
      "        [0.1180, 0.1075, 0.1353, 0.1023, 0.1168, 0.1030, 0.0980, 0.1299, 0.1065],\n",
      "        [0.1026, 0.1159, 0.1009, 0.1085, 0.1319, 0.1030, 0.1096, 0.1074, 0.1084],\n",
      "        [0.1154, 0.1307, 0.1168, 0.1042, 0.1025, 0.1264, 0.0986, 0.1163, 0.1025],\n",
      "        [0.1068, 0.1017, 0.1045, 0.1179, 0.1030, 0.1201, 0.1100, 0.1195, 0.1057],\n",
      "        [0.1104, 0.1130, 0.1116, 0.1440, 0.1014, 0.1093, 0.0987, 0.1104, 0.1348],\n",
      "        [0.1080, 0.1058, 0.1025, 0.1093, 0.1026, 0.1183, 0.1033, 0.0999, 0.1140],\n",
      "        [0.1058, 0.1082, 0.1228, 0.1019, 0.1192, 0.0996, 0.0991, 0.1068, 0.1088]])\n",
      "tensor([[0.1133, 0.1099, 0.1104, 0.1102, 0.1101, 0.1122, 0.1192, 0.1109, 0.1106],\n",
      "        [0.1102, 0.1118, 0.1100, 0.1108, 0.1121, 0.1098, 0.1099, 0.1099, 0.1113],\n",
      "        [0.1119, 0.1107, 0.1138, 0.1101, 0.1117, 0.1102, 0.1096, 0.1132, 0.1106],\n",
      "        [0.1102, 0.1116, 0.1100, 0.1108, 0.1134, 0.1102, 0.1109, 0.1107, 0.1108],\n",
      "        [0.1116, 0.1133, 0.1117, 0.1103, 0.1102, 0.1128, 0.1097, 0.1117, 0.1101],\n",
      "        [0.1106, 0.1101, 0.1104, 0.1119, 0.1102, 0.1121, 0.1109, 0.1120, 0.1105],\n",
      "        [0.1110, 0.1113, 0.1112, 0.1148, 0.1100, 0.1109, 0.1097, 0.1110, 0.1138],\n",
      "        [0.1108, 0.1105, 0.1101, 0.1109, 0.1102, 0.1119, 0.1102, 0.1099, 0.1114],\n",
      "        [0.1105, 0.1108, 0.1124, 0.1101, 0.1120, 0.1098, 0.1098, 0.1106, 0.1108]])\n",
      "tensor([[0.1113, 0.1110, 0.1110, 0.1110, 0.1110, 0.1112, 0.1120, 0.1111, 0.1111],\n",
      "        [0.1110, 0.1112, 0.1110, 0.1111, 0.1112, 0.1110, 0.1110, 0.1110, 0.1111],\n",
      "        [0.1112, 0.1111, 0.1114, 0.1110, 0.1112, 0.1110, 0.1109, 0.1113, 0.1111],\n",
      "        [0.1110, 0.1112, 0.1110, 0.1111, 0.1114, 0.1110, 0.1111, 0.1111, 0.1111],\n",
      "        [0.1112, 0.1114, 0.1112, 0.1110, 0.1110, 0.1113, 0.1110, 0.1112, 0.1110],\n",
      "        [0.1111, 0.1110, 0.1110, 0.1112, 0.1110, 0.1112, 0.1111, 0.1112, 0.1110],\n",
      "        [0.1111, 0.1111, 0.1111, 0.1115, 0.1110, 0.1111, 0.1110, 0.1111, 0.1114],\n",
      "        [0.1111, 0.1110, 0.1110, 0.1111, 0.1110, 0.1112, 0.1110, 0.1110, 0.1111],\n",
      "        [0.1110, 0.1111, 0.1113, 0.1110, 0.1112, 0.1110, 0.1110, 0.1111, 0.1111]])\n",
      "tensor([[0.1111, 0.1111, 0.1111, 0.1111, 0.1111, 0.1111, 0.1112, 0.1111, 0.1111],\n",
      "        [0.1111, 0.1111, 0.1111, 0.1111, 0.1111, 0.1111, 0.1111, 0.1111, 0.1111],\n",
      "        [0.1111, 0.1111, 0.1111, 0.1111, 0.1111, 0.1111, 0.1111, 0.1111, 0.1111],\n",
      "        [0.1111, 0.1111, 0.1111, 0.1111, 0.1111, 0.1111, 0.1111, 0.1111, 0.1111],\n",
      "        [0.1111, 0.1111, 0.1111, 0.1111, 0.1111, 0.1111, 0.1111, 0.1111, 0.1111],\n",
      "        [0.1111, 0.1111, 0.1111, 0.1111, 0.1111, 0.1111, 0.1111, 0.1111, 0.1111],\n",
      "        [0.1111, 0.1111, 0.1111, 0.1112, 0.1111, 0.1111, 0.1111, 0.1111, 0.1111],\n",
      "        [0.1111, 0.1111, 0.1111, 0.1111, 0.1111, 0.1111, 0.1111, 0.1111, 0.1111],\n",
      "        [0.1111, 0.1111, 0.1111, 0.1111, 0.1111, 0.1111, 0.1111, 0.1111, 0.1111]])\n",
      "tensor([[0.1111, 0.1111, 0.1111, 0.1111, 0.1111, 0.1111, 0.1111, 0.1111, 0.1111],\n",
      "        [0.1111, 0.1111, 0.1111, 0.1111, 0.1111, 0.1111, 0.1111, 0.1111, 0.1111],\n",
      "        [0.1111, 0.1111, 0.1111, 0.1111, 0.1111, 0.1111, 0.1111, 0.1111, 0.1111],\n",
      "        [0.1111, 0.1111, 0.1111, 0.1111, 0.1111, 0.1111, 0.1111, 0.1111, 0.1111],\n",
      "        [0.1111, 0.1111, 0.1111, 0.1111, 0.1111, 0.1111, 0.1111, 0.1111, 0.1111],\n",
      "        [0.1111, 0.1111, 0.1111, 0.1111, 0.1111, 0.1111, 0.1111, 0.1111, 0.1111],\n",
      "        [0.1111, 0.1111, 0.1111, 0.1111, 0.1111, 0.1111, 0.1111, 0.1111, 0.1111],\n",
      "        [0.1111, 0.1111, 0.1111, 0.1111, 0.1111, 0.1111, 0.1111, 0.1111, 0.1111],\n",
      "        [0.1111, 0.1111, 0.1111, 0.1111, 0.1111, 0.1111, 0.1111, 0.1111, 0.1111]])\n"
     ]
    }
   ],
   "source": [
    "tens = torch.Tensor([[0.2731, 0.0100, 0.0575, 0.0426, 0.0340, 0.1967, 0.6245, 0.0985, 0.0724],\n",
    "        [0.0337, 0.1670, 0.0189, 0.0953, 0.1939, 0.0063, 0.0330, 0.0134, 0.1284],\n",
    "        [0.1744, 0.0810, 0.3131, 0.0339, 0.1653, 0.0391, 0.0055, 0.2705, 0.0722],\n",
    "        [0.0345, 0.1560, 0.0197, 0.0930, 0.2867, 0.0387, 0.1175, 0.0803, 0.0895],\n",
    "        [0.1516, 0.2765, 0.1655, 0.0528, 0.0351, 0.2438, 0.0111, 0.1599, 0.0331],\n",
    "        [0.0744, 0.0256, 0.0541, 0.1760, 0.0398, 0.1930, 0.1206, 0.1871, 0.0642],\n",
    "        [0.1078, 0.1313, 0.1200, 0.3759, 0.0242, 0.0985, 0.0121, 0.1075, 0.3076],\n",
    "        [0.0853, 0.0651, 0.0350, 0.1003, 0.0356, 0.1779, 0.0586, 0.0081, 0.1397],\n",
    "        [0.0652, 0.0875, 0.2161, 0.0303, 0.1854, 0.0060, 0.0170, 0.0747, 0.0929]])\n",
    "\n",
    "\n",
    "for trial in range(5):\n",
    "    tens = nn.functional.softmax(tens, dim=0)\n",
    "    print(tens)"
   ]
  },
  {
   "cell_type": "code",
   "execution_count": 6,
   "metadata": {},
   "outputs": [
    {
     "data": {
      "text/plain": [
       "tensor([[0.1111, 0.1111, 0.1111, 0.1111, 0.1111, 0.1111, 0.1111, 0.1111, 0.1111],\n",
       "        [0.1111, 0.1111, 0.1111, 0.1111, 0.1111, 0.1111, 0.1111, 0.1111, 0.1111],\n",
       "        [0.1111, 0.1111, 0.1111, 0.1111, 0.1111, 0.1111, 0.1111, 0.1111, 0.1111],\n",
       "        [0.1111, 0.1111, 0.1111, 0.1111, 0.1111, 0.1111, 0.1111, 0.1111, 0.1111],\n",
       "        [0.1111, 0.1111, 0.1111, 0.1111, 0.1111, 0.1111, 0.1111, 0.1111, 0.1111],\n",
       "        [0.1111, 0.1111, 0.1111, 0.1111, 0.1111, 0.1111, 0.1111, 0.1111, 0.1111],\n",
       "        [0.1111, 0.1111, 0.1111, 0.1111, 0.1111, 0.1111, 0.1111, 0.1111, 0.1111],\n",
       "        [0.1111, 0.1111, 0.1111, 0.1111, 0.1111, 0.1111, 0.1111, 0.1111, 0.1111],\n",
       "        [0.1111, 0.1111, 0.1111, 0.1111, 0.1111, 0.1111, 0.1111, 0.1111, 0.1111]])"
      ]
     },
     "execution_count": 6,
     "metadata": {},
     "output_type": "execute_result"
    }
   ],
   "source": [
    "tens = nn.functional.softmax(tens, dim=1)\n",
    "tens"
   ]
  },
  {
   "cell_type": "code",
   "execution_count": 7,
   "metadata": {},
   "outputs": [
    {
     "data": {
      "text/plain": [
       "tensor([[0.1111, 0.1111, 0.1111, 0.1111, 0.1111, 0.1111, 0.1111, 0.1111, 0.1111],\n",
       "        [0.1111, 0.1111, 0.1111, 0.1111, 0.1111, 0.1111, 0.1111, 0.1111, 0.1111],\n",
       "        [0.1111, 0.1111, 0.1111, 0.1111, 0.1111, 0.1111, 0.1111, 0.1111, 0.1111],\n",
       "        [0.1111, 0.1111, 0.1111, 0.1111, 0.1111, 0.1111, 0.1111, 0.1111, 0.1111],\n",
       "        [0.1111, 0.1111, 0.1111, 0.1111, 0.1111, 0.1111, 0.1111, 0.1111, 0.1111],\n",
       "        [0.1111, 0.1111, 0.1111, 0.1111, 0.1111, 0.1111, 0.1111, 0.1111, 0.1111],\n",
       "        [0.1111, 0.1111, 0.1111, 0.1111, 0.1111, 0.1111, 0.1111, 0.1111, 0.1111],\n",
       "        [0.1111, 0.1111, 0.1111, 0.1111, 0.1111, 0.1111, 0.1111, 0.1111, 0.1111],\n",
       "        [0.1111, 0.1111, 0.1111, 0.1111, 0.1111, 0.1111, 0.1111, 0.1111, 0.1111]])"
      ]
     },
     "execution_count": 7,
     "metadata": {},
     "output_type": "execute_result"
    }
   ],
   "source": [
    "tens = nn.functional.softmax(tens, dim=1)\n",
    "tens"
   ]
  },
  {
   "cell_type": "code",
   "execution_count": 8,
   "metadata": {},
   "outputs": [],
   "source": [
    "SEED = 7992\n",
    "torch.manual_seed(SEED)\n",
    "torch.cuda.manual_seed(SEED)\n",
    "torch.cuda.manual_seed_all(SEED) # if you are using multi-GPU.\n",
    "torch.backends.cudnn.benchmark = False\n",
    "torch.backends.cudnn.deterministic = True"
   ]
  },
  {
   "cell_type": "code",
   "execution_count": 9,
   "metadata": {},
   "outputs": [
    {
     "name": "stdout",
     "output_type": "stream",
     "text": [
      "tensor([0.1200, 0.0215, 0.8142, 0.2947, 0.1395])\n",
      "tensor([0.3831, 0.8640, 0.0267, 0.2292, 0.2779])\n"
     ]
    }
   ],
   "source": [
    "# random seed test \n",
    "a = torch.rand(5)\n",
    "print(a)\n",
    "\n",
    "b = torch.rand(5)\n",
    "print(b)"
   ]
  },
  {
   "cell_type": "code",
   "execution_count": 10,
   "metadata": {},
   "outputs": [
    {
     "name": "stdout",
     "output_type": "stream",
     "text": [
      "Parameter containing:\n",
      "tensor([0.0321, 0.0871, 0.2369, 0.6439], requires_grad=True)\n",
      "Parameter containing:\n",
      "tensor([0.0321, 0.0871, 0.2369, 0.6439], requires_grad=True)\n",
      "Parameter containing:\n",
      "tensor([0.0321, 0.0871, 0.2369, 0.6439], requires_grad=True)\n"
     ]
    }
   ],
   "source": [
    "import torch \n",
    "import torch.nn as nn\n",
    "\n",
    "a = torch.Tensor([1,2,3,4])\n",
    "b = torch.Tensor([1,2,3,4])\n",
    "c = torch.Tensor([1,2,3,4])\n",
    "\n",
    "d = nn.ParameterList([nn.Parameter(a), nn.Parameter(b), nn.Parameter(c)])\n",
    "\n",
    "# softmax them.\n",
    "for i in range(len(d)):\n",
    "    d[i] = nn.functional.softmax(d[i], dim=0)\n",
    "    print(d[i])"
   ]
  },
  {
   "cell_type": "code",
   "execution_count": 13,
   "metadata": {},
   "outputs": [
    {
     "name": "stdout",
     "output_type": "stream",
     "text": [
      "torch.Size([3, 128, 128]) torch.Size([3, 32, 32])\n"
     ]
    }
   ],
   "source": [
    "from torchvision import transforms\n",
    "\n",
    "a= torch.ones(3,128,128)\n",
    "# resize\n",
    "tr = transforms.Resize(32)\n",
    "b = tr(a) \n",
    "print(a.shape,b.shape)"
   ]
  },
  {
   "cell_type": "code",
   "execution_count": 27,
   "metadata": {},
   "outputs": [
    {
     "name": "stdout",
     "output_type": "stream",
     "text": [
      "torch.Size([4, 320, 512])\n",
      "torch.Size([3, 320, 512]) torch.Size([4, 320, 512]) torch.Size([4, 64, 64])\n"
     ]
    }
   ],
   "source": [
    "# original 3, 320, 512\n",
    "a = torch.ones(3,320,512)\n",
    "\n",
    "# target : 4,64,64.\n",
    "c_mean = torch.mean(a, dim=(0))\n",
    "# additional channel for fourth channel\n",
    "c_mean = c_mean.unsqueeze(0)\n",
    "# attach\n",
    "res = torch.cat([a, c_mean])\n",
    "print(res.shape)\n",
    "\n",
    "# resize\n",
    "tr = transforms.Resize((64,64))\n",
    "b = tr(res)\n",
    "print(a.shape,res.shape,b.shape)"
   ]
  }
 ],
 "metadata": {
  "kernelspec": {
   "display_name": "base",
   "language": "python",
   "name": "python3"
  },
  "language_info": {
   "codemirror_mode": {
    "name": "ipython",
    "version": 3
   },
   "file_extension": ".py",
   "mimetype": "text/x-python",
   "name": "python",
   "nbconvert_exporter": "python",
   "pygments_lexer": "ipython3",
   "version": "3.9.18"
  }
 },
 "nbformat": 4,
 "nbformat_minor": 2
}
