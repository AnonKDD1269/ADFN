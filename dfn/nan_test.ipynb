{
 "cells": [
  {
   "cell_type": "code",
   "execution_count": 33,
   "metadata": {},
   "outputs": [],
   "source": [
    "import torch\n",
    "import torch.nn as nn\n",
    "\n",
    "\n"
   ]
  },
  {
   "cell_type": "code",
   "execution_count": 34,
   "metadata": {},
   "outputs": [],
   "source": [
    "a = torch.tensor([1e-10, 1e-10, 1e-10])\n",
    "b = torch.tensor([1e-10, 1e-10, 1e-10])"
   ]
  },
  {
   "cell_type": "code",
   "execution_count": 35,
   "metadata": {},
   "outputs": [],
   "source": [
    "c = torch.ones(3)\n",
    "d = torch.zeros(3)\n",
    "infy = c/(a*b*d)"
   ]
  },
  {
   "cell_type": "code",
   "execution_count": 36,
   "metadata": {},
   "outputs": [
    {
     "data": {
      "text/plain": [
       "tensor([nan, nan, nan])"
      ]
     },
     "execution_count": 36,
     "metadata": {},
     "output_type": "execute_result"
    }
   ],
   "source": [
    "result = torch.tensor([0.0, 0.0, 0.0]) / torch.tensor([0.0, 0.0, 0.0])\n",
    "nany = (a*a*a*a*a*a*a*a*a*a*a*a*a*a*a)/(b*b*b*b*b*b*b*b*b*b*b*b)\n",
    "nany"
   ]
  },
  {
   "cell_type": "code",
   "execution_count": 37,
   "metadata": {},
   "outputs": [
    {
     "data": {
      "text/plain": [
       "tensor([nan, nan, nan])"
      ]
     },
     "execution_count": 37,
     "metadata": {},
     "output_type": "execute_result"
    }
   ],
   "source": [
    "inf_a = torch.tensor([float('inf'), float('inf'), float('inf')])\n",
    "inf_b = torch.tensor([float('inf'), float('inf'), float('inf')])\n",
    "infy = inf_a/inf_b\n",
    "infy"
   ]
  },
  {
   "cell_type": "code",
   "execution_count": 46,
   "metadata": {},
   "outputs": [
    {
     "data": {
      "text/plain": [
       "tensor([nan, nan, nan])"
      ]
     },
     "execution_count": 46,
     "metadata": {},
     "output_type": "execute_result"
    }
   ],
   "source": [
    "zero_a = torch.tensor([0.0, 0.0, 0.0])\n",
    "zero_b = torch.tensor([0.0, 0.0, 0.0])\n",
    "\n",
    "# nan_Case1\n",
    "nan_case1 = zero_a/zero_b\n",
    "\n",
    "# nan_Case2\n",
    "nan_case2 = zero_a/inf_b # this is zero\n",
    "\n",
    "# nan_Case3\n",
    "nan_case3 = inf_a/zero_b\n",
    "nan_case3 # this is inf\n",
    "\n",
    "# nan_case4\n",
    "nan_case4 = inf_a/inf_b\n",
    "nan_case4 # this is nan\n"
   ]
  }
 ],
 "metadata": {
  "kernelspec": {
   "display_name": "base",
   "language": "python",
   "name": "python3"
  },
  "language_info": {
   "codemirror_mode": {
    "name": "ipython",
    "version": 3
   },
   "file_extension": ".py",
   "mimetype": "text/x-python",
   "name": "python",
   "nbconvert_exporter": "python",
   "pygments_lexer": "ipython3",
   "version": "3.9.18"
  }
 },
 "nbformat": 4,
 "nbformat_minor": 2
}
